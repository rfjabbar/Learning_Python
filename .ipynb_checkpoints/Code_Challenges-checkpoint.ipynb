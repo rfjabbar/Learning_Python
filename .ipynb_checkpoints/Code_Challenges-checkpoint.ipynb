{
 "cells": [
  {
   "cell_type": "markdown",
   "metadata": {},
   "source": [
    "## String Challenges"
   ]
  },
  {
   "cell_type": "markdown",
   "metadata": {},
   "source": [
    "### From codewars.com"
   ]
  },
  {
   "cell_type": "markdown",
   "metadata": {},
   "source": [
    "<img src = \"Images/code_challenge1.png\">"
   ]
  },
  {
   "cell_type": "code",
   "execution_count": 1,
   "metadata": {},
   "outputs": [],
   "source": [
    "def spin_words(sentence):\n",
    "    rev_sent = str(\"\")\n",
    "    index = -1\n",
    "    while index > -len(sentence) -1:\n",
    "        letter = sentence[index]\n",
    "        rev_sent += letter\n",
    "        index = index -1\n",
    "    print(rev_sent) "
   ]
  },
  {
   "cell_type": "code",
   "execution_count": 2,
   "metadata": {},
   "outputs": [
    {
     "name": "stdout",
     "output_type": "stream",
     "text": [
      "olleH\n"
     ]
    }
   ],
   "source": [
    "spin_words(\"Hello\")"
   ]
  },
  {
   "cell_type": "markdown",
   "metadata": {},
   "source": [
    "- Challenge needs to keep words in order but reverse the letters \n",
    "    - Need to split sentence into individual word\n",
    "- Also ONLY reverse words that are <b>five or more letters</b>\n",
    "    - Need to make condition based on length of word\n",
    "- Strings passed in can only consist of letters and spaces\n",
    "    - Need to make error message when string does not include only letters and spaces\n",
    "    - Or Need to remove non-letter/spaces characters from string"
   ]
  },
  {
   "cell_type": "code",
   "execution_count": 3,
   "metadata": {},
   "outputs": [],
   "source": [
    "# splice sentence by space seperator to get words\n",
    "def split_sentence(sentence):\n",
    "    return sentence.split()\n",
    "    \n",
    "    "
   ]
  },
  {
   "cell_type": "code",
   "execution_count": 4,
   "metadata": {},
   "outputs": [
    {
     "data": {
      "text/plain": [
       "['Love', 'thy', 'neighbor']"
      ]
     },
     "execution_count": 4,
     "metadata": {},
     "output_type": "execute_result"
    }
   ],
   "source": [
    "split_sentence(\"Love thy neighbor\")"
   ]
  },
  {
   "cell_type": "code",
   "execution_count": 5,
   "metadata": {},
   "outputs": [],
   "source": [
    "# five or more letters only\n",
    "def mas_cinco(word):\n",
    "    if len(word) >= 5:\n",
    "        return True\n",
    "    else:\n",
    "        return False"
   ]
  },
  {
   "cell_type": "code",
   "execution_count": 6,
   "metadata": {},
   "outputs": [
    {
     "data": {
      "text/plain": [
       "False"
      ]
     },
     "execution_count": 6,
     "metadata": {},
     "output_type": "execute_result"
    }
   ],
   "source": [
    "mas_cinco(\"love\")"
   ]
  },
  {
   "cell_type": "code",
   "execution_count": 7,
   "metadata": {},
   "outputs": [
    {
     "data": {
      "text/plain": [
       "True"
      ]
     },
     "execution_count": 7,
     "metadata": {},
     "output_type": "execute_result"
    }
   ],
   "source": [
    "mas_cinco('world')"
   ]
  },
  {
   "cell_type": "markdown",
   "metadata": {},
   "source": [
    "Try to make built-in error about string passed into program ONLY contains spaces and letters AND includes at least one letter (does NOT have to include space can be one word string).\n",
    "<br>Below code is modified from answer found on <b>stack overflow</b>. Question posted by user <i>sithlorddahlia</i>. Answer/code source from user <i>rob mayoff</i>.\n",
    "<br>\n",
    "<br>link: <a>https://stackoverflow.com/questions/29460405/checking-if-string-is-only-letters-and-spaces-python/29460426#29460426?newreg=05eabb0bfdc442f0b2c24db25bdeb53f</a>"
   ]
  },
  {
   "cell_type": "code",
   "execution_count": 8,
   "metadata": {},
   "outputs": [],
   "source": [
    "def only_sp_let(string):\n",
    "    if (any(x.isalpha() for x in string)\n",
    "       and all(x.isalpha() or x.isspace() for x in string)):\n",
    "        return True\n",
    "    else:\n",
    "        return False"
   ]
  },
  {
   "cell_type": "code",
   "execution_count": 9,
   "metadata": {},
   "outputs": [
    {
     "data": {
      "text/plain": [
       "True"
      ]
     },
     "execution_count": 9,
     "metadata": {},
     "output_type": "execute_result"
    }
   ],
   "source": [
    "only_sp_let('Hello World')"
   ]
  },
  {
   "cell_type": "code",
   "execution_count": 10,
   "metadata": {},
   "outputs": [
    {
     "data": {
      "text/plain": [
       "False"
      ]
     },
     "execution_count": 10,
     "metadata": {},
     "output_type": "execute_result"
    }
   ],
   "source": [
    "only_sp_let(\"Hello World!\")"
   ]
  },
  {
   "cell_type": "code",
   "execution_count": 44,
   "metadata": {},
   "outputs": [],
   "source": [
    "# try to combine above\n",
    "\n",
    "def spin_words(sentence):\n",
    "    if (any(x.isalpha() for x in sentence) and all(x.isalpha() or x.isspace() for x in sentence)):\n",
    "        sent_list = sentence.split()\n",
    "        print(sent_list)\n",
    "    else:\n",
    "        error_msg = 'Sentence can only consist of letters and spaces'\n",
    "        return error_msg\n",
    "    \n",
    "    for string in sent_list:\n",
    "        if len(string) >= 5:\n",
    "            rev_string = str(\"\")\n",
    "            index = -1\n",
    "            while index > - len(string) - 1:\n",
    "                letter = string[index]\n",
    "                rev_string += letter\n",
    "                index = index - 1\n",
    "            print(rev_string)\n",
    "            sent_list = [sub.replace(string, rev_string) for sub in sent_list]\n",
    "            print(sent_list)\n",
    "        else:\n",
    "            print(string, ': will not be reversed')\n",
    "        \n",
    "    space = ' '\n",
    "    print(space.join(sent_list))\n",
    "            \n",
    "\n",
    "    \n",
    "    \n",
    "        \n"
   ]
  },
  {
   "cell_type": "code",
   "execution_count": 45,
   "metadata": {},
   "outputs": [
    {
     "name": "stdout",
     "output_type": "stream",
     "text": [
      "['Hello', 'world', 'I', 'am', 'babe']\n",
      "olleH\n",
      "['olleH', 'world', 'I', 'am', 'babe']\n",
      "dlrow\n",
      "['olleH', 'dlrow', 'I', 'am', 'babe']\n",
      "I : will not be reversed\n",
      "am : will not be reversed\n",
      "babe : will not be reversed\n",
      "olleH dlrow I am babe\n"
     ]
    }
   ],
   "source": [
    "spin_words(\"Hello world I am babe\")"
   ]
  },
  {
   "cell_type": "code",
   "execution_count": 48,
   "metadata": {},
   "outputs": [],
   "source": [
    "# try to combine above\n",
    "\n",
    "def spin_words(sentence):\n",
    "    if (any(x.isalpha() for x in sentence) and all(x.isalpha() or x.isspace() for x in sentence)):\n",
    "        sent_list = sentence.split()\n",
    "    else:\n",
    "        error_msg = 'Sentence can only consist of letters and spaces'\n",
    "        return error_msg\n",
    "    \n",
    "    for string in sent_list:\n",
    "        if len(string) >= 5:\n",
    "            rev_string = str(\"\")\n",
    "            index = -1\n",
    "            while index > - len(string) - 1:\n",
    "                letter = string[index]\n",
    "                rev_string += letter\n",
    "                index = index - 1\n",
    "            sent_list = [sub.replace(string, rev_string) for sub in sent_list]\n",
    "        \n",
    "    space = ' '\n",
    "    print(space.join(sent_list))\n",
    "            \n",
    "\n",
    "    "
   ]
  },
  {
   "cell_type": "code",
   "execution_count": 49,
   "metadata": {},
   "outputs": [
    {
     "name": "stdout",
     "output_type": "stream",
     "text": [
      "Hey wollef sroirraw\n"
     ]
    }
   ],
   "source": [
    "spin_words(\"Hey fellow warriors\")"
   ]
  },
  {
   "cell_type": "code",
   "execution_count": 50,
   "metadata": {},
   "outputs": [
    {
     "name": "stdout",
     "output_type": "stream",
     "text": [
      "This is a test\n"
     ]
    }
   ],
   "source": [
    "spin_words(\"This is a test\")"
   ]
  },
  {
   "cell_type": "code",
   "execution_count": 51,
   "metadata": {},
   "outputs": [
    {
     "name": "stdout",
     "output_type": "stream",
     "text": [
      "This is rehtona test\n"
     ]
    }
   ],
   "source": [
    "spin_words(\"This is another test\")"
   ]
  },
  {
   "cell_type": "markdown",
   "metadata": {},
   "source": [
    "Below is what I submitted and passed test on codewars.com site"
   ]
  },
  {
   "cell_type": "code",
   "execution_count": 59,
   "metadata": {},
   "outputs": [],
   "source": [
    "def spin_words(sentence):\n",
    "    if (any(x.isalpha() for x in sentence) and all(x.isalpha() or x.isspace() for x in sentence)):\n",
    "        sent_list = sentence.split()\n",
    "    else:\n",
    "        error_msg = 'Sentence can only consist of letters and spaces'\n",
    "        return error_msg\n",
    "    \n",
    "    for string in sent_list:\n",
    "        if len(string) >= 5:\n",
    "            rev_string = str(\"\")\n",
    "            index = -1\n",
    "            while index > - len(string) - 1:\n",
    "                letter = string[index]\n",
    "                rev_string += letter\n",
    "                index = index - 1\n",
    "            sent_list = [sub.replace(string, rev_string) for sub in sent_list]\n",
    "        \n",
    "    space = ' '\n",
    "    reversed = space.join(sent_list)\n",
    "    return reversed"
   ]
  },
  {
   "cell_type": "code",
   "execution_count": 60,
   "metadata": {},
   "outputs": [
    {
     "data": {
      "text/plain": [
       "'This is rehtona yzarc test'"
      ]
     },
     "execution_count": 60,
     "metadata": {},
     "output_type": "execute_result"
    }
   ],
   "source": [
    "spin_words(\"This is another crazy test\")"
   ]
  },
  {
   "cell_type": "markdown",
   "metadata": {},
   "source": [
    "Below are other users FAR more superior and better code solutions"
   ]
  },
  {
   "cell_type": "code",
   "execution_count": 1,
   "metadata": {},
   "outputs": [
    {
     "data": {
      "text/plain": [
       "'sdrow'"
      ]
     },
     "execution_count": 1,
     "metadata": {},
     "output_type": "execute_result"
    }
   ],
   "source": [
    "# woah! way easier solution to reversing strings\n",
    "x = \"words\"\n",
    "x[::-1]"
   ]
  },
  {
   "cell_type": "code",
   "execution_count": 62,
   "metadata": {},
   "outputs": [],
   "source": [
    "def spin_words1(sentence):\n",
    "    return ' '.join([x[::-1] if len(x)>= 5 else x for x in sentence.split()])"
   ]
  },
  {
   "cell_type": "code",
   "execution_count": 63,
   "metadata": {},
   "outputs": [
    {
     "data": {
      "text/plain": [
       "'This is rehtona test with retteb line of code'"
      ]
     },
     "execution_count": 63,
     "metadata": {},
     "output_type": "execute_result"
    }
   ],
   "source": [
    "spin_words1('This is another test with better line of code')"
   ]
  },
  {
   "cell_type": "code",
   "execution_count": 65,
   "metadata": {},
   "outputs": [],
   "source": [
    "# other solution\n",
    "\n",
    "def spin_words2(sentence):\n",
    "    words = [word for word in sentence.split()]\n",
    "    words = [word if len(word) < 5 else word[::-1] for word in words]\n",
    "    return ' '.join(words)"
   ]
  },
  {
   "cell_type": "code",
   "execution_count": 66,
   "metadata": {},
   "outputs": [
    {
     "data": {
      "text/plain": [
       "'this is rehtona way retteb noitcnuf it uses less senil but llits does not have rorre if non rettel or ecaps is !!desu'"
      ]
     },
     "execution_count": 66,
     "metadata": {},
     "output_type": "execute_result"
    }
   ],
   "source": [
    "spin_words2('this is another way better function it uses less lines but still does not have error if non letter or space is used!!')"
   ]
  },
  {
   "cell_type": "code",
   "execution_count": 67,
   "metadata": {},
   "outputs": [],
   "source": [
    "# modify my dumb code to use easier reverse solution\n",
    "def spin_words(sentence):\n",
    "    if (any(x.isalpha() for x in sentence) and all(x.isalpha() or x.isspace() for x in sentence)):\n",
    "        sent_list = sentence.split()\n",
    "    else:\n",
    "        error_msg = 'Sentence can only consist of letters and spaces'\n",
    "        return error_msg\n",
    "    \n",
    "    for string in sent_list:\n",
    "        if len(string) >= 5:\n",
    "            rev_string = string[::-1]\n",
    "            sent_list = [sub.replace(string, rev_string) for sub in sent_list]\n",
    "    return ' '.join(sent_list)"
   ]
  },
  {
   "cell_type": "code",
   "execution_count": 68,
   "metadata": {},
   "outputs": [
    {
     "data": {
      "text/plain": [
       "'This rehtona test of my new and devorpmi code'"
      ]
     },
     "execution_count": 68,
     "metadata": {},
     "output_type": "execute_result"
    }
   ],
   "source": [
    "spin_words('This another test of my new and improved code')"
   ]
  },
  {
   "cell_type": "code",
   "execution_count": null,
   "metadata": {},
   "outputs": [],
   "source": []
  }
 ],
 "metadata": {
  "kernelspec": {
   "display_name": "Python 3",
   "language": "python",
   "name": "python3"
  },
  "language_info": {
   "codemirror_mode": {
    "name": "ipython",
    "version": 3
   },
   "file_extension": ".py",
   "mimetype": "text/x-python",
   "name": "python",
   "nbconvert_exporter": "python",
   "pygments_lexer": "ipython3",
   "version": "3.7.4"
  },
  "toc": {
   "base_numbering": 1,
   "nav_menu": {},
   "number_sections": true,
   "sideBar": true,
   "skip_h1_title": false,
   "title_cell": "Table of Contents",
   "title_sidebar": "Contents",
   "toc_cell": false,
   "toc_position": {},
   "toc_section_display": true,
   "toc_window_display": false
  },
  "varInspector": {
   "cols": {
    "lenName": 16,
    "lenType": 16,
    "lenVar": 40
   },
   "kernels_config": {
    "python": {
     "delete_cmd_postfix": "",
     "delete_cmd_prefix": "del ",
     "library": "var_list.py",
     "varRefreshCmd": "print(var_dic_list())"
    },
    "r": {
     "delete_cmd_postfix": ") ",
     "delete_cmd_prefix": "rm(",
     "library": "var_list.r",
     "varRefreshCmd": "cat(var_dic_list()) "
    }
   },
   "types_to_exclude": [
    "module",
    "function",
    "builtin_function_or_method",
    "instance",
    "_Feature"
   ],
   "window_display": false
  }
 },
 "nbformat": 4,
 "nbformat_minor": 2
}
