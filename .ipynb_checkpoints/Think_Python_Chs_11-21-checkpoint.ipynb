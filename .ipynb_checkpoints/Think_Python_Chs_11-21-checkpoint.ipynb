{
 "cells": [
  {
   "cell_type": "markdown",
   "metadata": {},
   "source": [
    "<img src = 'Images/tp_cover.jpg'>"
   ]
  },
  {
   "cell_type": "markdown",
   "metadata": {
    "heading_collapsed": true
   },
   "source": [
    "# Ch.11 Dictionaries"
   ]
  },
  {
   "cell_type": "markdown",
   "metadata": {
    "hidden": true
   },
   "source": [
    "## A Dictionary Is a Mapping\n",
    "<br>\n",
    "<b><font color = pink>dictionary</font></b> like a list but the indices can be - almost - any type. The indices are called <font color = pink>keys</font></b> that point to a value. Each key is associated with a single value. Called <font color = pink>key-value pair</font></b> or sometimes an item.\n",
    "<br><br>\n",
    "Mathematically a dictionary represents the <font color = pink>mapping</font></b> from keys to values."
   ]
  },
  {
   "cell_type": "code",
   "execution_count": 1,
   "metadata": {
    "hidden": true
   },
   "outputs": [
    {
     "data": {
      "text/plain": [
       "{}"
      ]
     },
     "execution_count": 1,
     "metadata": {},
     "output_type": "execute_result"
    }
   ],
   "source": [
    "#  fucntion dict creates a new dictionary with no items\n",
    "# make dictionary that maps from English to Spanish words\n",
    "\n",
    "eng2sp = dict()\n",
    "eng2sp"
   ]
  },
  {
   "cell_type": "code",
   "execution_count": 2,
   "metadata": {
    "hidden": true
   },
   "outputs": [],
   "source": [
    "# use square brackets to add items\n",
    "\n",
    "eng2sp['one'] = 'uno'"
   ]
  },
  {
   "cell_type": "code",
   "execution_count": 3,
   "metadata": {
    "hidden": true
   },
   "outputs": [
    {
     "data": {
      "text/plain": [
       "{'one': 'uno'}"
      ]
     },
     "execution_count": 3,
     "metadata": {},
     "output_type": "execute_result"
    }
   ],
   "source": [
    "# key is 'one' and maps to value 'uno'\n",
    "\n",
    "eng2sp"
   ]
  },
  {
   "cell_type": "code",
   "execution_count": 4,
   "metadata": {
    "hidden": true
   },
   "outputs": [],
   "source": [
    "# can also use output format as input format\n",
    "# create new dictionary with three items\n",
    "\n",
    "eng2sp = {'one': 'uno', 'two': 'dos', 'three': 'tres'}"
   ]
  },
  {
   "cell_type": "code",
   "execution_count": 5,
   "metadata": {
    "hidden": true
   },
   "outputs": [
    {
     "data": {
      "text/plain": [
       "{'one': 'uno', 'two': 'dos', 'three': 'tres'}"
      ]
     },
     "execution_count": 5,
     "metadata": {},
     "output_type": "execute_result"
    }
   ],
   "source": [
    "# order of pairs is unpredictable \n",
    "\n",
    "eng2sp"
   ]
  },
  {
   "cell_type": "code",
   "execution_count": 6,
   "metadata": {
    "hidden": true
   },
   "outputs": [
    {
     "data": {
      "text/plain": [
       "'dos'"
      ]
     },
     "execution_count": 6,
     "metadata": {},
     "output_type": "execute_result"
    }
   ],
   "source": [
    "# okay that not ordered\n",
    "# dont use integer indices\n",
    "# use the keys to look up values\n",
    "\n",
    "eng2sp['two']"
   ]
  },
  {
   "cell_type": "code",
   "execution_count": 7,
   "metadata": {
    "hidden": true
   },
   "outputs": [
    {
     "data": {
      "text/plain": [
       "3"
      ]
     },
     "execution_count": 7,
     "metadata": {},
     "output_type": "execute_result"
    }
   ],
   "source": [
    "#  len function returns number of key value pairs\n",
    "\n",
    "len(eng2sp)"
   ]
  },
  {
   "cell_type": "code",
   "execution_count": 8,
   "metadata": {
    "hidden": true
   },
   "outputs": [
    {
     "data": {
      "text/plain": [
       "True"
      ]
     },
     "execution_count": 8,
     "metadata": {},
     "output_type": "execute_result"
    }
   ],
   "source": [
    "# the in operator works but only on if something is a key\n",
    "\n",
    "'one' in eng2sp"
   ]
  },
  {
   "cell_type": "code",
   "execution_count": 9,
   "metadata": {
    "hidden": true
   },
   "outputs": [
    {
     "data": {
      "text/plain": [
       "False"
      ]
     },
     "execution_count": 9,
     "metadata": {},
     "output_type": "execute_result"
    }
   ],
   "source": [
    "'uno' in eng2sp"
   ]
  },
  {
   "cell_type": "code",
   "execution_count": 10,
   "metadata": {
    "hidden": true
   },
   "outputs": [
    {
     "data": {
      "text/plain": [
       "True"
      ]
     },
     "execution_count": 10,
     "metadata": {},
     "output_type": "execute_result"
    }
   ],
   "source": [
    "# to check values use the method values which returns a collection of values\n",
    "# then can use in operator\n",
    "\n",
    "vals = eng2sp.values()\n",
    "'uno' in vals"
   ]
  },
  {
   "cell_type": "markdown",
   "metadata": {
    "hidden": true
   },
   "source": [
    "## Dictionary as a Collection of Counters"
   ]
  },
  {
   "cell_type": "code",
   "execution_count": 11,
   "metadata": {
    "hidden": true
   },
   "outputs": [],
   "source": [
    "# create function that counts number of characters in a string\n",
    "# does so by making characters the key and the values are counters\n",
    "\n",
    "def histograms(s):\n",
    "    d = dict()\n",
    "    for c in s:\n",
    "        if c not in d:\n",
    "            d[c] = 1\n",
    "        else:\n",
    "            d[c] += 1\n",
    "    return d"
   ]
  },
  {
   "cell_type": "code",
   "execution_count": 13,
   "metadata": {
    "hidden": true
   },
   "outputs": [
    {
     "data": {
      "text/plain": [
       "{'b': 1, 'r': 2, 'o': 2, 'n': 1, 't': 1, 's': 2, 'a': 1, 'u': 2}"
      ]
     },
     "execution_count": 13,
     "metadata": {},
     "output_type": "execute_result"
    }
   ],
   "source": [
    "h = histograms('brontosaurus')\n",
    "h"
   ]
  },
  {
   "cell_type": "code",
   "execution_count": 14,
   "metadata": {
    "hidden": true
   },
   "outputs": [
    {
     "data": {
      "text/plain": [
       "{'a': 1}"
      ]
     },
     "execution_count": 14,
     "metadata": {},
     "output_type": "execute_result"
    }
   ],
   "source": [
    "# get method for dictionaries\n",
    "# takes akey and a default value\n",
    "# if key appears in the dictionary get returns the corresponding value otherwise it returns the default value\n",
    "\n",
    "h = histograms('a')\n",
    "h"
   ]
  },
  {
   "cell_type": "code",
   "execution_count": 15,
   "metadata": {
    "hidden": true
   },
   "outputs": [
    {
     "data": {
      "text/plain": [
       "1"
      ]
     },
     "execution_count": 15,
     "metadata": {},
     "output_type": "execute_result"
    }
   ],
   "source": [
    "h.get('a', 0)"
   ]
  },
  {
   "cell_type": "code",
   "execution_count": 16,
   "metadata": {
    "hidden": true
   },
   "outputs": [
    {
     "data": {
      "text/plain": [
       "0"
      ]
     },
     "execution_count": 16,
     "metadata": {},
     "output_type": "execute_result"
    }
   ],
   "source": [
    "h.get('b', 0)"
   ]
  },
  {
   "cell_type": "code",
   "execution_count": 17,
   "metadata": {
    "hidden": true
   },
   "outputs": [],
   "source": [
    "# rewrite histogram more concisely\n",
    "# should be able to eliminate the if statement\n",
    "\n",
    "def histogram(s):\n",
    "    d = dict()\n",
    "    for c in s:\n",
    "        d[c] = d.get(c, 0) + 1\n",
    "    return d"
   ]
  },
  {
   "cell_type": "code",
   "execution_count": 18,
   "metadata": {
    "hidden": true
   },
   "outputs": [
    {
     "data": {
      "text/plain": [
       "{'b': 1, 'r': 2, 'o': 2, 'n': 1, 't': 1, 's': 2, 'a': 1, 'u': 2}"
      ]
     },
     "execution_count": 18,
     "metadata": {},
     "output_type": "execute_result"
    }
   ],
   "source": [
    "histogram('brontosaurus')"
   ]
  },
  {
   "cell_type": "markdown",
   "metadata": {
    "hidden": true
   },
   "source": [
    "## Looping and Dictionaries"
   ]
  },
  {
   "cell_type": "markdown",
   "metadata": {
    "hidden": true
   },
   "source": [
    "Using a dictionary in a for statement traverses the keys of the dictonary"
   ]
  },
  {
   "cell_type": "code",
   "execution_count": 19,
   "metadata": {
    "hidden": true
   },
   "outputs": [],
   "source": [
    "def print_hist(h):\n",
    "    for c in h:\n",
    "        print(c, h[c])"
   ]
  },
  {
   "cell_type": "code",
   "execution_count": 20,
   "metadata": {
    "hidden": true
   },
   "outputs": [
    {
     "name": "stdout",
     "output_type": "stream",
     "text": [
      "p 1\n",
      "a 1\n",
      "r 2\n",
      "o 1\n",
      "t 1\n"
     ]
    }
   ],
   "source": [
    "h = histogram('parrot')\n",
    "print_hist(h)"
   ]
  },
  {
   "cell_type": "code",
   "execution_count": 21,
   "metadata": {
    "hidden": true
   },
   "outputs": [
    {
     "name": "stdout",
     "output_type": "stream",
     "text": [
      "a 1\n",
      "o 1\n",
      "p 1\n",
      "r 2\n",
      "t 1\n"
     ]
    }
   ],
   "source": [
    "# the keys are in no particular order\n",
    "# to traverse key in sorted way used sorted function\n",
    "\n",
    "for key in sorted(h):\n",
    "    print(key, h[key])"
   ]
  },
  {
   "cell_type": "markdown",
   "metadata": {
    "hidden": true
   },
   "source": [
    "## Reverse Lookup\n",
    "<br>\n",
    "Given a fictionary d and a key k, it is easy to find the corresponding value v = d[k]. This is called a <b><font color= pink>lookup</font></b>.\n",
    "<br><br>\n",
    "A <b><font color= pink>reverse lookup</font></b> is when you want to use a value to look up an associated key but the problem is there can be multiple keys that map to one value and there is no simple syntax to do this"
   ]
  },
  {
   "cell_type": "code",
   "execution_count": 22,
   "metadata": {
    "hidden": true
   },
   "outputs": [],
   "source": [
    "# function that takes a value and returns the first key that maps to that value\n",
    "\n",
    "def reverse_lookup(d, v):\n",
    "    for k in d:\n",
    "        if d[k] ==v:\n",
    "            return k\n",
    "    raise LookupError()"
   ]
  },
  {
   "cell_type": "markdown",
   "metadata": {
    "hidden": true
   },
   "source": [
    "The <b><font color= pink>raise statement</font></b> seen in the above function causes an exception; in this case it causes a LookupError, which is a built-in exception used to indicate that a lookup operation failed"
   ]
  },
  {
   "cell_type": "code",
   "execution_count": 23,
   "metadata": {
    "hidden": true
   },
   "outputs": [
    {
     "data": {
      "text/plain": [
       "'r'"
      ]
     },
     "execution_count": 23,
     "metadata": {},
     "output_type": "execute_result"
    }
   ],
   "source": [
    "# example of successful reverse lookup\n",
    "h = histogram('parrot')\n",
    "k = reverse_lookup(h, 2)\n",
    "k"
   ]
  },
  {
   "cell_type": "markdown",
   "metadata": {
    "hidden": true
   },
   "source": [
    "## Dictionaries and Lists\n",
    "<br>\n",
    "\"Lists can appear as values in a dictionary. For example, if you are given a dictionary that maps from letters to frequencies, you might want to invert it; that is, create a dictionary that maps from frequencies to letters. Since there might be several letters with the same frequency, each value in the inverted dictionary should be a list of letters\""
   ]
  },
  {
   "cell_type": "code",
   "execution_count": 24,
   "metadata": {
    "hidden": true
   },
   "outputs": [],
   "source": [
    "# function that inverts a dictionary\n",
    "\n",
    "def invert_dict(d):\n",
    "    inverse = dict()\n",
    "    for key in d:\n",
    "        val = d[key]\n",
    "        if val not in inverse:\n",
    "            inverse[val] = [key]\n",
    "        else:\n",
    "            inverse[val].append(key)\n",
    "    return inverse"
   ]
  },
  {
   "cell_type": "code",
   "execution_count": 25,
   "metadata": {
    "hidden": true
   },
   "outputs": [
    {
     "data": {
      "text/plain": [
       "{'p': 1, 'a': 1, 'r': 2, 'o': 1, 't': 1}"
      ]
     },
     "execution_count": 25,
     "metadata": {},
     "output_type": "execute_result"
    }
   ],
   "source": [
    "hist = histogram('parrot')\n",
    "hist"
   ]
  },
  {
   "cell_type": "code",
   "execution_count": 26,
   "metadata": {
    "hidden": true
   },
   "outputs": [
    {
     "data": {
      "text/plain": [
       "{1: ['p', 'a', 'o', 't'], 2: ['r']}"
      ]
     },
     "execution_count": 26,
     "metadata": {},
     "output_type": "execute_result"
    }
   ],
   "source": [
    "inverse = invert_dict(hist)\n",
    "inverse"
   ]
  },
  {
   "cell_type": "markdown",
   "metadata": {
    "hidden": true
   },
   "source": [
    "\"Lists can be values in a dictionary, as this example shows, but they cannot be keys.\" --keys have to be unique link indices"
   ]
  },
  {
   "cell_type": "markdown",
   "metadata": {
    "hidden": true
   },
   "source": [
    "## Exercises"
   ]
  },
  {
   "cell_type": "markdown",
   "metadata": {
    "hidden": true
   },
   "source": [
    "### Exercise 11-1\n",
    "<br>\n",
    "Write a function that reads the words in words.txt and stores them as keys in a dictionary. It doesn't matter what the values are. Then you can use the in operator as a fast way to check whether a string is in the dictionary.\n"
   ]
  },
  {
   "cell_type": "code",
   "execution_count": 32,
   "metadata": {
    "hidden": true
   },
   "outputs": [],
   "source": [
    "def word_dict(d):\n",
    "    fin = open('words.txt')\n",
    "    for line in fin:\n",
    "        word = line.strip()\n",
    "        d[word] = len(word)\n",
    "        "
   ]
  },
  {
   "cell_type": "code",
   "execution_count": 33,
   "metadata": {
    "hidden": true
   },
   "outputs": [],
   "source": [
    "word_len = dict()\n",
    "\n",
    "word_dict(word_len)"
   ]
  },
  {
   "cell_type": "code",
   "execution_count": 37,
   "metadata": {
    "hidden": true
   },
   "outputs": [
    {
     "data": {
      "text/plain": [
       "True"
      ]
     },
     "execution_count": 37,
     "metadata": {},
     "output_type": "execute_result"
    }
   ],
   "source": [
    "'acidify' in word_len"
   ]
  },
  {
   "cell_type": "code",
   "execution_count": 35,
   "metadata": {
    "hidden": true
   },
   "outputs": [
    {
     "data": {
      "text/plain": [
       "{'aa': 2,\n",
       " 'aah': 3,\n",
       " 'aahed': 5,\n",
       " 'aahing': 6,\n",
       " 'aahs': 4,\n",
       " 'aal': 3,\n",
       " 'aalii': 5,\n",
       " 'aaliis': 6,\n",
       " 'aals': 4,\n",
       " 'aardvark': 8,\n",
       " 'aardvarks': 9,\n",
       " 'aardwolf': 8,\n",
       " 'aardwolves': 10,\n",
       " 'aas': 3,\n",
       " 'aasvogel': 8,\n",
       " 'aasvogels': 9,\n",
       " 'aba': 3,\n",
       " 'abaca': 5,\n",
       " 'abacas': 6,\n",
       " 'abaci': 5,\n",
       " 'aback': 5,\n",
       " 'abacus': 6,\n",
       " 'abacuses': 8,\n",
       " 'abaft': 5,\n",
       " 'abaka': 5,\n",
       " 'abakas': 6,\n",
       " 'abalone': 7,\n",
       " 'abalones': 8,\n",
       " 'abamp': 5,\n",
       " 'abampere': 8,\n",
       " 'abamperes': 9,\n",
       " 'abamps': 6,\n",
       " 'abandon': 7,\n",
       " 'abandoned': 9,\n",
       " 'abandoning': 10,\n",
       " 'abandonment': 11,\n",
       " 'abandonments': 12,\n",
       " 'abandons': 8,\n",
       " 'abas': 4,\n",
       " 'abase': 5,\n",
       " 'abased': 6,\n",
       " 'abasedly': 8,\n",
       " 'abasement': 9,\n",
       " 'abasements': 10,\n",
       " 'abaser': 6,\n",
       " 'abasers': 7,\n",
       " 'abases': 6,\n",
       " 'abash': 5,\n",
       " 'abashed': 7,\n",
       " 'abashes': 7,\n",
       " 'abashing': 8,\n",
       " 'abasing': 7,\n",
       " 'abatable': 8,\n",
       " 'abate': 5,\n",
       " 'abated': 6,\n",
       " 'abatement': 9,\n",
       " 'abatements': 10,\n",
       " 'abater': 6,\n",
       " 'abaters': 7,\n",
       " 'abates': 6,\n",
       " 'abating': 7,\n",
       " 'abatis': 6,\n",
       " 'abatises': 8,\n",
       " 'abator': 6,\n",
       " 'abators': 7,\n",
       " 'abattis': 7,\n",
       " 'abattises': 9,\n",
       " 'abattoir': 8,\n",
       " 'abattoirs': 9,\n",
       " 'abaxial': 7,\n",
       " 'abaxile': 7,\n",
       " 'abbacies': 8,\n",
       " 'abbacy': 6,\n",
       " 'abbatial': 8,\n",
       " 'abbe': 4,\n",
       " 'abbes': 5,\n",
       " 'abbess': 6,\n",
       " 'abbesses': 8,\n",
       " 'abbey': 5,\n",
       " 'abbeys': 6,\n",
       " 'abbot': 5,\n",
       " 'abbotcies': 9,\n",
       " 'abbotcy': 7,\n",
       " 'abbots': 6,\n",
       " 'abbreviate': 10,\n",
       " 'abbreviated': 11,\n",
       " 'abbreviates': 11,\n",
       " 'abbreviating': 12,\n",
       " 'abbreviation': 12,\n",
       " 'abbreviations': 13,\n",
       " 'abdicate': 8,\n",
       " 'abdicated': 9,\n",
       " 'abdicates': 9,\n",
       " 'abdicating': 10,\n",
       " 'abdication': 10,\n",
       " 'abdications': 11,\n",
       " 'abdomen': 7,\n",
       " 'abdomens': 8,\n",
       " 'abdomina': 8,\n",
       " 'abdominal': 9,\n",
       " 'abdominally': 11,\n",
       " 'abduce': 6,\n",
       " 'abduced': 7,\n",
       " 'abducens': 8,\n",
       " 'abducent': 8,\n",
       " 'abducentes': 10,\n",
       " 'abduces': 7,\n",
       " 'abducing': 8,\n",
       " 'abduct': 6,\n",
       " 'abducted': 8,\n",
       " 'abducting': 9,\n",
       " 'abductor': 8,\n",
       " 'abductores': 10,\n",
       " 'abductors': 9,\n",
       " 'abducts': 7,\n",
       " 'abeam': 5,\n",
       " 'abed': 4,\n",
       " 'abele': 5,\n",
       " 'abeles': 6,\n",
       " 'abelmosk': 8,\n",
       " 'abelmosks': 9,\n",
       " 'aberrant': 8,\n",
       " 'aberrants': 9,\n",
       " 'aberration': 10,\n",
       " 'aberrations': 11,\n",
       " 'abet': 4,\n",
       " 'abetment': 8,\n",
       " 'abetments': 9,\n",
       " 'abets': 5,\n",
       " 'abettal': 7,\n",
       " 'abettals': 8,\n",
       " 'abetted': 7,\n",
       " 'abetter': 7,\n",
       " 'abetters': 8,\n",
       " 'abetting': 8,\n",
       " 'abettor': 7,\n",
       " 'abettors': 8,\n",
       " 'abeyance': 8,\n",
       " 'abeyances': 9,\n",
       " 'abeyancies': 10,\n",
       " 'abeyancy': 8,\n",
       " 'abeyant': 7,\n",
       " 'abfarad': 7,\n",
       " 'abfarads': 8,\n",
       " 'abhenries': 9,\n",
       " 'abhenry': 7,\n",
       " 'abhenrys': 8,\n",
       " 'abhor': 5,\n",
       " 'abhorred': 8,\n",
       " 'abhorrence': 10,\n",
       " 'abhorrences': 11,\n",
       " 'abhorrent': 9,\n",
       " 'abhorrer': 8,\n",
       " 'abhorrers': 9,\n",
       " 'abhorring': 9,\n",
       " 'abhors': 6,\n",
       " 'abidance': 8,\n",
       " 'abidances': 9,\n",
       " 'abide': 5,\n",
       " 'abided': 6,\n",
       " 'abider': 6,\n",
       " 'abiders': 7,\n",
       " 'abides': 6,\n",
       " 'abiding': 7,\n",
       " 'abied': 5,\n",
       " 'abies': 5,\n",
       " 'abigail': 7,\n",
       " 'abigails': 8,\n",
       " 'abilities': 9,\n",
       " 'ability': 7,\n",
       " 'abioses': 7,\n",
       " 'abiosis': 7,\n",
       " 'abiotic': 7,\n",
       " 'abject': 6,\n",
       " 'abjectly': 8,\n",
       " 'abjectness': 10,\n",
       " 'abjectnesses': 12,\n",
       " 'abjuration': 10,\n",
       " 'abjurations': 11,\n",
       " 'abjure': 6,\n",
       " 'abjured': 7,\n",
       " 'abjurer': 7,\n",
       " 'abjurers': 8,\n",
       " 'abjures': 7,\n",
       " 'abjuring': 8,\n",
       " 'ablate': 6,\n",
       " 'ablated': 7,\n",
       " 'ablates': 7,\n",
       " 'ablating': 8,\n",
       " 'ablation': 8,\n",
       " 'ablations': 9,\n",
       " 'ablative': 8,\n",
       " 'ablatives': 9,\n",
       " 'ablaut': 6,\n",
       " 'ablauts': 7,\n",
       " 'ablaze': 6,\n",
       " 'able': 4,\n",
       " 'ablegate': 8,\n",
       " 'ablegates': 9,\n",
       " 'abler': 5,\n",
       " 'ables': 5,\n",
       " 'ablest': 6,\n",
       " 'ablings': 7,\n",
       " 'ablins': 6,\n",
       " 'abloom': 6,\n",
       " 'abluent': 7,\n",
       " 'abluents': 8,\n",
       " 'ablush': 6,\n",
       " 'abluted': 7,\n",
       " 'ablution': 8,\n",
       " 'ablutions': 9,\n",
       " 'ably': 4,\n",
       " 'abmho': 5,\n",
       " 'abmhos': 6,\n",
       " 'abnegate': 8,\n",
       " 'abnegated': 9,\n",
       " 'abnegates': 9,\n",
       " 'abnegating': 10,\n",
       " 'abnegation': 10,\n",
       " 'abnegations': 11,\n",
       " 'abnormal': 8,\n",
       " 'abnormalities': 13,\n",
       " 'abnormality': 11,\n",
       " 'abnormally': 10,\n",
       " 'abnormals': 9,\n",
       " 'abo': 3,\n",
       " 'aboard': 6,\n",
       " 'abode': 5,\n",
       " 'aboded': 6,\n",
       " 'abodes': 6,\n",
       " 'aboding': 7,\n",
       " 'abohm': 5,\n",
       " 'abohms': 6,\n",
       " 'aboideau': 8,\n",
       " 'aboideaus': 9,\n",
       " 'aboideaux': 9,\n",
       " 'aboil': 5,\n",
       " 'aboiteau': 8,\n",
       " 'aboiteaus': 9,\n",
       " 'aboiteaux': 9,\n",
       " 'abolish': 7,\n",
       " 'abolished': 9,\n",
       " 'abolishes': 9,\n",
       " 'abolishing': 10,\n",
       " 'abolition': 9,\n",
       " 'abolitions': 10,\n",
       " 'abolla': 6,\n",
       " 'abollae': 7,\n",
       " 'aboma': 5,\n",
       " 'abomas': 6,\n",
       " 'abomasa': 7,\n",
       " 'abomasal': 8,\n",
       " 'abomasi': 7,\n",
       " 'abomasum': 8,\n",
       " 'abomasus': 8,\n",
       " 'abominable': 10,\n",
       " 'abominate': 9,\n",
       " 'abominated': 10,\n",
       " 'abominates': 10,\n",
       " 'abominating': 11,\n",
       " 'abomination': 11,\n",
       " 'abominations': 12,\n",
       " 'aboon': 5,\n",
       " 'aboral': 6,\n",
       " 'aborally': 8,\n",
       " 'aboriginal': 10,\n",
       " 'aborigine': 9,\n",
       " 'aborigines': 10,\n",
       " 'aborning': 8,\n",
       " 'abort': 5,\n",
       " 'aborted': 7,\n",
       " 'aborter': 7,\n",
       " 'aborters': 8,\n",
       " 'aborting': 8,\n",
       " 'abortion': 8,\n",
       " 'abortions': 9,\n",
       " 'abortive': 8,\n",
       " 'aborts': 6,\n",
       " 'abos': 4,\n",
       " 'abought': 7,\n",
       " 'aboulia': 7,\n",
       " 'aboulias': 8,\n",
       " 'aboulic': 7,\n",
       " 'abound': 6,\n",
       " 'abounded': 8,\n",
       " 'abounding': 9,\n",
       " 'abounds': 7,\n",
       " 'about': 5,\n",
       " 'above': 5,\n",
       " 'aboveboard': 10,\n",
       " 'aboves': 6,\n",
       " 'abracadabra': 11,\n",
       " 'abradant': 8,\n",
       " 'abradants': 9,\n",
       " 'abrade': 6,\n",
       " 'abraded': 7,\n",
       " 'abrader': 7,\n",
       " 'abraders': 8,\n",
       " 'abrades': 7,\n",
       " 'abrading': 8,\n",
       " 'abrasion': 8,\n",
       " 'abrasions': 9,\n",
       " 'abrasive': 8,\n",
       " 'abrasively': 10,\n",
       " 'abrasiveness': 12,\n",
       " 'abrasivenesses': 14,\n",
       " 'abrasives': 9,\n",
       " 'abreact': 7,\n",
       " 'abreacted': 9,\n",
       " 'abreacting': 10,\n",
       " 'abreacts': 8,\n",
       " 'abreast': 7,\n",
       " 'abri': 4,\n",
       " 'abridge': 7,\n",
       " 'abridged': 8,\n",
       " 'abridgement': 11,\n",
       " 'abridgements': 12,\n",
       " 'abridger': 8,\n",
       " 'abridgers': 9,\n",
       " 'abridges': 8,\n",
       " 'abridging': 9,\n",
       " 'abridgment': 10,\n",
       " 'abridgments': 11,\n",
       " 'abris': 5,\n",
       " 'abroach': 7,\n",
       " 'abroad': 6,\n",
       " 'abrogate': 8,\n",
       " 'abrogated': 9,\n",
       " 'abrogates': 9,\n",
       " 'abrogating': 10,\n",
       " 'abrupt': 6,\n",
       " 'abrupter': 8,\n",
       " 'abruptest': 9,\n",
       " 'abruptly': 8,\n",
       " 'abscess': 7,\n",
       " 'abscessed': 9,\n",
       " 'abscesses': 9,\n",
       " 'abscessing': 10,\n",
       " 'abscise': 7,\n",
       " 'abscised': 8,\n",
       " 'abscises': 8,\n",
       " 'abscisin': 8,\n",
       " 'abscising': 9,\n",
       " 'abscisins': 9,\n",
       " 'abscissa': 8,\n",
       " 'abscissae': 9,\n",
       " 'abscissas': 9,\n",
       " 'abscond': 7,\n",
       " 'absconded': 9,\n",
       " 'absconding': 10,\n",
       " 'absconds': 8,\n",
       " 'absence': 7,\n",
       " 'absences': 8,\n",
       " 'absent': 6,\n",
       " 'absented': 8,\n",
       " 'absentee': 8,\n",
       " 'absentees': 9,\n",
       " 'absenter': 8,\n",
       " 'absenters': 9,\n",
       " 'absenting': 9,\n",
       " 'absently': 8,\n",
       " 'absentminded': 12,\n",
       " 'absentmindedly': 14,\n",
       " 'absentmindedness': 16,\n",
       " 'absentmindednesses': 18,\n",
       " 'absents': 7,\n",
       " 'absinth': 7,\n",
       " 'absinthe': 8,\n",
       " 'absinthes': 9,\n",
       " 'absinths': 8,\n",
       " 'absolute': 8,\n",
       " 'absolutely': 10,\n",
       " 'absoluter': 9,\n",
       " 'absolutes': 9,\n",
       " 'absolutest': 10,\n",
       " 'absolution': 10,\n",
       " 'absolutions': 11,\n",
       " 'absolve': 7,\n",
       " 'absolved': 8,\n",
       " 'absolver': 8,\n",
       " 'absolvers': 9,\n",
       " 'absolves': 8,\n",
       " 'absolving': 9,\n",
       " 'absonant': 8,\n",
       " 'absorb': 6,\n",
       " 'absorbed': 8,\n",
       " 'absorbencies': 12,\n",
       " 'absorbency': 10,\n",
       " 'absorbent': 9,\n",
       " 'absorber': 8,\n",
       " 'absorbers': 9,\n",
       " 'absorbing': 9,\n",
       " 'absorbingly': 11,\n",
       " 'absorbs': 7,\n",
       " 'absorption': 10,\n",
       " 'absorptions': 11,\n",
       " 'absorptive': 10,\n",
       " 'abstain': 7,\n",
       " 'abstained': 9,\n",
       " 'abstainer': 9,\n",
       " 'abstainers': 10,\n",
       " 'abstaining': 10,\n",
       " 'abstains': 8,\n",
       " 'abstemious': 10,\n",
       " 'abstemiously': 12,\n",
       " 'abstention': 10,\n",
       " 'abstentions': 11,\n",
       " 'absterge': 8,\n",
       " 'absterged': 9,\n",
       " 'absterges': 9,\n",
       " 'absterging': 10,\n",
       " 'abstinence': 10,\n",
       " 'abstinences': 11,\n",
       " 'abstract': 8,\n",
       " 'abstracted': 10,\n",
       " 'abstracter': 10,\n",
       " 'abstractest': 11,\n",
       " 'abstracting': 11,\n",
       " 'abstraction': 11,\n",
       " 'abstractions': 12,\n",
       " 'abstractly': 10,\n",
       " 'abstractness': 12,\n",
       " 'abstractnesses': 14,\n",
       " 'abstracts': 9,\n",
       " 'abstrict': 8,\n",
       " 'abstricted': 10,\n",
       " 'abstricting': 11,\n",
       " 'abstricts': 9,\n",
       " 'abstruse': 8,\n",
       " 'abstrusely': 10,\n",
       " 'abstruseness': 12,\n",
       " 'abstrusenesses': 14,\n",
       " 'abstruser': 9,\n",
       " 'abstrusest': 10,\n",
       " 'absurd': 6,\n",
       " 'absurder': 8,\n",
       " 'absurdest': 9,\n",
       " 'absurdities': 11,\n",
       " 'absurdity': 9,\n",
       " 'absurdly': 8,\n",
       " 'absurds': 7,\n",
       " 'abubble': 7,\n",
       " 'abulia': 6,\n",
       " 'abulias': 7,\n",
       " 'abulic': 6,\n",
       " 'abundance': 9,\n",
       " 'abundances': 10,\n",
       " 'abundant': 8,\n",
       " 'abundantly': 10,\n",
       " 'abusable': 8,\n",
       " 'abuse': 5,\n",
       " 'abused': 6,\n",
       " 'abuser': 6,\n",
       " 'abusers': 7,\n",
       " 'abuses': 6,\n",
       " 'abusing': 7,\n",
       " 'abusive': 7,\n",
       " 'abusively': 9,\n",
       " 'abusiveness': 11,\n",
       " 'abusivenesses': 13,\n",
       " 'abut': 4,\n",
       " 'abutilon': 8,\n",
       " 'abutilons': 9,\n",
       " 'abutment': 8,\n",
       " 'abutments': 9,\n",
       " 'abuts': 5,\n",
       " 'abuttal': 7,\n",
       " 'abuttals': 8,\n",
       " 'abutted': 7,\n",
       " 'abutter': 7,\n",
       " 'abutters': 8,\n",
       " 'abutting': 8,\n",
       " 'abuzz': 5,\n",
       " 'abvolt': 6,\n",
       " 'abvolts': 7,\n",
       " 'abwatt': 6,\n",
       " 'abwatts': 7,\n",
       " 'aby': 3,\n",
       " 'abye': 4,\n",
       " 'abyed': 5,\n",
       " 'abyes': 5,\n",
       " 'abying': 6,\n",
       " 'abys': 4,\n",
       " 'abysm': 5,\n",
       " 'abysmal': 7,\n",
       " 'abysmally': 9,\n",
       " 'abysms': 6,\n",
       " 'abyss': 5,\n",
       " 'abyssal': 7,\n",
       " 'abysses': 7,\n",
       " 'acacia': 6,\n",
       " 'acacias': 7,\n",
       " 'academe': 7,\n",
       " 'academes': 8,\n",
       " 'academia': 8,\n",
       " 'academias': 9,\n",
       " 'academic': 8,\n",
       " 'academically': 12,\n",
       " 'academics': 9,\n",
       " 'academies': 9,\n",
       " 'academy': 7,\n",
       " 'acajou': 6,\n",
       " 'acajous': 7,\n",
       " 'acaleph': 7,\n",
       " 'acalephae': 9,\n",
       " 'acalephe': 8,\n",
       " 'acalephes': 9,\n",
       " 'acalephs': 8,\n",
       " 'acanthi': 7,\n",
       " 'acanthus': 8,\n",
       " 'acanthuses': 10,\n",
       " 'acari': 5,\n",
       " 'acarid': 6,\n",
       " 'acaridan': 8,\n",
       " 'acaridans': 9,\n",
       " 'acarids': 7,\n",
       " 'acarine': 7,\n",
       " 'acarines': 8,\n",
       " 'acaroid': 7,\n",
       " 'acarpous': 8,\n",
       " 'acarus': 6,\n",
       " 'acaudal': 7,\n",
       " 'acaudate': 8,\n",
       " 'acauline': 8,\n",
       " 'acaulose': 8,\n",
       " 'acaulous': 8,\n",
       " 'accede': 6,\n",
       " 'acceded': 7,\n",
       " 'acceder': 7,\n",
       " 'acceders': 8,\n",
       " 'accedes': 7,\n",
       " 'acceding': 8,\n",
       " 'accelerate': 10,\n",
       " 'accelerated': 11,\n",
       " 'accelerates': 11,\n",
       " 'accelerating': 12,\n",
       " 'acceleration': 12,\n",
       " 'accelerations': 13,\n",
       " 'accelerator': 11,\n",
       " 'accelerators': 12,\n",
       " 'accent': 6,\n",
       " 'accented': 8,\n",
       " 'accenting': 9,\n",
       " 'accentor': 8,\n",
       " 'accentors': 9,\n",
       " 'accents': 7,\n",
       " 'accentual': 9,\n",
       " 'accentuate': 10,\n",
       " 'accentuated': 11,\n",
       " 'accentuates': 11,\n",
       " 'accentuating': 12,\n",
       " 'accentuation': 12,\n",
       " 'accentuations': 13,\n",
       " 'accept': 6,\n",
       " 'acceptabilities': 15,\n",
       " 'acceptability': 13,\n",
       " 'acceptable': 10,\n",
       " 'acceptance': 10,\n",
       " 'acceptances': 11,\n",
       " 'accepted': 8,\n",
       " 'acceptee': 8,\n",
       " 'acceptees': 9,\n",
       " 'accepter': 8,\n",
       " 'accepters': 9,\n",
       " 'accepting': 9,\n",
       " 'acceptor': 8,\n",
       " 'acceptors': 9,\n",
       " 'accepts': 7,\n",
       " 'access': 6,\n",
       " 'accessed': 8,\n",
       " 'accesses': 8,\n",
       " 'accessibilities': 15,\n",
       " 'accessibility': 13,\n",
       " 'accessible': 10,\n",
       " 'accessing': 9,\n",
       " 'accession': 9,\n",
       " 'accessions': 10,\n",
       " 'accessories': 11,\n",
       " 'accessory': 9,\n",
       " 'accident': 8,\n",
       " 'accidental': 10,\n",
       " 'accidentally': 12,\n",
       " 'accidentals': 11,\n",
       " 'accidents': 9,\n",
       " 'accidie': 7,\n",
       " 'accidies': 8,\n",
       " 'acclaim': 7,\n",
       " 'acclaimed': 9,\n",
       " 'acclaiming': 10,\n",
       " 'acclaims': 8,\n",
       " 'acclamation': 11,\n",
       " 'acclamations': 12,\n",
       " 'acclimate': 9,\n",
       " 'acclimated': 10,\n",
       " 'acclimates': 10,\n",
       " 'acclimating': 11,\n",
       " 'acclimation': 11,\n",
       " 'acclimations': 12,\n",
       " 'acclimatization': 15,\n",
       " 'acclimatizations': 16,\n",
       " 'acclimatize': 11,\n",
       " 'acclimatizes': 12,\n",
       " 'accolade': 8,\n",
       " 'accolades': 9,\n",
       " 'accommodate': 11,\n",
       " 'accommodated': 12,\n",
       " 'accommodates': 12,\n",
       " 'accommodating': 13,\n",
       " 'accommodation': 13,\n",
       " 'accommodations': 14,\n",
       " 'accompanied': 11,\n",
       " 'accompanies': 11,\n",
       " 'accompaniment': 13,\n",
       " 'accompaniments': 14,\n",
       " 'accompanist': 11,\n",
       " 'accompany': 9,\n",
       " 'accompanying': 12,\n",
       " 'accomplice': 10,\n",
       " 'accomplices': 11,\n",
       " 'accomplish': 10,\n",
       " 'accomplished': 12,\n",
       " 'accomplisher': 12,\n",
       " 'accomplishers': 13,\n",
       " 'accomplishes': 12,\n",
       " 'accomplishing': 13,\n",
       " 'accomplishment': 14,\n",
       " 'accomplishments': 15,\n",
       " 'accord': 6,\n",
       " 'accordance': 10,\n",
       " 'accordant': 9,\n",
       " 'accorded': 8,\n",
       " 'accorder': 8,\n",
       " 'accorders': 9,\n",
       " 'according': 9,\n",
       " 'accordingly': 11,\n",
       " 'accordion': 9,\n",
       " 'accordions': 10,\n",
       " 'accords': 7,\n",
       " 'accost': 6,\n",
       " 'accosted': 8,\n",
       " 'accosting': 9,\n",
       " 'accosts': 7,\n",
       " 'account': 7,\n",
       " 'accountabilities': 16,\n",
       " 'accountability': 14,\n",
       " 'accountable': 11,\n",
       " 'accountancies': 13,\n",
       " 'accountancy': 11,\n",
       " 'accountant': 10,\n",
       " 'accountants': 11,\n",
       " 'accounted': 9,\n",
       " 'accounting': 10,\n",
       " 'accountings': 11,\n",
       " 'accounts': 8,\n",
       " 'accouter': 8,\n",
       " 'accoutered': 10,\n",
       " 'accoutering': 11,\n",
       " 'accouters': 9,\n",
       " 'accoutre': 8,\n",
       " 'accoutred': 9,\n",
       " 'accoutrement': 12,\n",
       " 'accoutrements': 13,\n",
       " 'accoutres': 9,\n",
       " 'accoutring': 10,\n",
       " 'accredit': 8,\n",
       " 'accredited': 10,\n",
       " 'accrediting': 11,\n",
       " 'accredits': 9,\n",
       " 'accrete': 7,\n",
       " 'accreted': 8,\n",
       " 'accretes': 8,\n",
       " 'accreting': 9,\n",
       " 'accrual': 7,\n",
       " 'accruals': 8,\n",
       " 'accrue': 6,\n",
       " 'accrued': 7,\n",
       " 'accrues': 7,\n",
       " 'accruing': 8,\n",
       " 'accumulate': 10,\n",
       " 'accumulated': 11,\n",
       " 'accumulates': 11,\n",
       " 'accumulating': 12,\n",
       " 'accumulation': 12,\n",
       " 'accumulations': 13,\n",
       " 'accumulator': 11,\n",
       " 'accumulators': 12,\n",
       " 'accuracies': 10,\n",
       " 'accuracy': 8,\n",
       " 'accurate': 8,\n",
       " 'accurately': 10,\n",
       " 'accurateness': 12,\n",
       " 'accuratenesses': 14,\n",
       " 'accursed': 8,\n",
       " 'accurst': 7,\n",
       " 'accusal': 7,\n",
       " 'accusals': 8,\n",
       " 'accusant': 8,\n",
       " 'accusants': 9,\n",
       " 'accusation': 10,\n",
       " 'accusations': 11,\n",
       " 'accuse': 6,\n",
       " 'accused': 7,\n",
       " 'accuser': 7,\n",
       " 'accusers': 8,\n",
       " 'accuses': 7,\n",
       " 'accusing': 8,\n",
       " 'accustom': 8,\n",
       " 'accustomed': 10,\n",
       " 'accustoming': 11,\n",
       " 'accustoms': 9,\n",
       " 'ace': 3,\n",
       " 'aced': 4,\n",
       " 'acedia': 6,\n",
       " 'acedias': 7,\n",
       " 'aceldama': 8,\n",
       " 'aceldamas': 9,\n",
       " 'acentric': 8,\n",
       " 'acequia': 7,\n",
       " 'acequias': 8,\n",
       " 'acerate': 7,\n",
       " 'acerated': 8,\n",
       " 'acerb': 5,\n",
       " 'acerbate': 8,\n",
       " 'acerbated': 9,\n",
       " 'acerbates': 9,\n",
       " 'acerbating': 10,\n",
       " 'acerber': 7,\n",
       " 'acerbest': 8,\n",
       " 'acerbic': 7,\n",
       " 'acerbities': 10,\n",
       " 'acerbity': 8,\n",
       " 'acerola': 7,\n",
       " 'acerolas': 8,\n",
       " 'acerose': 7,\n",
       " 'acerous': 7,\n",
       " 'acers': 5,\n",
       " 'acervate': 8,\n",
       " 'acervuli': 8,\n",
       " 'aces': 4,\n",
       " 'acescent': 8,\n",
       " 'acescents': 9,\n",
       " 'aceta': 5,\n",
       " 'acetal': 6,\n",
       " 'acetals': 7,\n",
       " 'acetamid': 8,\n",
       " 'acetamids': 9,\n",
       " 'acetate': 7,\n",
       " 'acetated': 8,\n",
       " 'acetates': 8,\n",
       " 'acetic': 6,\n",
       " 'acetified': 9,\n",
       " 'acetifies': 9,\n",
       " 'acetify': 7,\n",
       " 'acetifying': 10,\n",
       " 'acetone': 7,\n",
       " 'acetones': 8,\n",
       " 'acetonic': 8,\n",
       " 'acetose': 7,\n",
       " 'acetous': 7,\n",
       " 'acetoxyl': 8,\n",
       " 'acetoxyls': 9,\n",
       " 'acetum': 6,\n",
       " 'acetyl': 6,\n",
       " 'acetylene': 9,\n",
       " 'acetylenes': 10,\n",
       " 'acetylic': 8,\n",
       " 'acetyls': 7,\n",
       " 'ache': 4,\n",
       " 'ached': 5,\n",
       " 'achene': 6,\n",
       " 'achenes': 7,\n",
       " 'achenial': 8,\n",
       " 'aches': 5,\n",
       " 'achier': 6,\n",
       " 'achiest': 7,\n",
       " 'achievable': 10,\n",
       " 'achieve': 7,\n",
       " 'achieved': 8,\n",
       " 'achievement': 11,\n",
       " 'achievements': 12,\n",
       " 'achiever': 8,\n",
       " 'achievers': 9,\n",
       " 'achieves': 8,\n",
       " 'achieving': 9,\n",
       " 'achiness': 8,\n",
       " 'achinesses': 10,\n",
       " 'aching': 6,\n",
       " 'achingly': 8,\n",
       " 'achiote': 7,\n",
       " 'achiotes': 8,\n",
       " 'achoo': 5,\n",
       " 'achromat': 8,\n",
       " 'achromats': 9,\n",
       " 'achromic': 8,\n",
       " 'achy': 4,\n",
       " 'acicula': 7,\n",
       " 'aciculae': 8,\n",
       " 'acicular': 8,\n",
       " 'aciculas': 8,\n",
       " 'acid': 4,\n",
       " 'acidhead': 8,\n",
       " 'acidheads': 9,\n",
       " 'acidic': 6,\n",
       " 'acidified': 9,\n",
       " 'acidifies': 9,\n",
       " 'acidify': 7,\n",
       " 'acidifying': 10,\n",
       " 'acidities': 9,\n",
       " 'acidity': 7,\n",
       " 'acidly': 6,\n",
       " 'acidness': 8,\n",
       " 'acidnesses': 10,\n",
       " 'acidoses': 8,\n",
       " 'acidosis': 8,\n",
       " 'acidotic': 8,\n",
       " 'acids': 5,\n",
       " 'acidy': 5,\n",
       " 'acierate': 8,\n",
       " 'acierated': 9,\n",
       " 'acierates': 9,\n",
       " 'acierating': 10,\n",
       " 'aciform': 7,\n",
       " 'acinar': 6,\n",
       " 'acing': 5,\n",
       " 'acini': 5,\n",
       " 'acinic': 6,\n",
       " 'acinose': 7,\n",
       " 'acinous': 7,\n",
       " 'acinus': 6,\n",
       " 'acknowledge': 11,\n",
       " 'acknowledged': 12,\n",
       " 'acknowledgement': 15,\n",
       " 'acknowledgements': 16,\n",
       " 'acknowledges': 12,\n",
       " 'acknowledging': 13,\n",
       " 'acknowledgment': 14,\n",
       " 'acknowledgments': 15,\n",
       " 'aclinic': 7,\n",
       " 'acmatic': 7,\n",
       " 'acme': 4,\n",
       " 'acmes': 5,\n",
       " 'acmic': 5,\n",
       " 'acne': 4,\n",
       " 'acned': 5,\n",
       " 'acnes': 5,\n",
       " 'acnode': 6,\n",
       " 'acnodes': 7,\n",
       " 'acock': 5,\n",
       " 'acold': 5,\n",
       " 'acolyte': 7,\n",
       " 'acolytes': 8,\n",
       " 'aconite': 7,\n",
       " 'aconites': 8,\n",
       " 'aconitic': 8,\n",
       " 'aconitum': 8,\n",
       " 'aconitums': 9,\n",
       " 'acorn': 5,\n",
       " 'acorns': 6,\n",
       " 'acoustic': 8,\n",
       " 'acoustical': 10,\n",
       " 'acoustically': 12,\n",
       " 'acoustics': 9,\n",
       " 'acquaint': 8,\n",
       " 'acquaintance': 12,\n",
       " 'acquaintances': 13,\n",
       " 'acquaintanceship': 16,\n",
       " 'acquaintanceships': 17,\n",
       " 'acquainted': 10,\n",
       " 'acquainting': 11,\n",
       " 'acquaints': 9,\n",
       " 'acquest': 7,\n",
       " 'acquests': 8,\n",
       " 'acquiesce': 9,\n",
       " 'acquiesced': 10,\n",
       " 'acquiescence': 12,\n",
       " 'acquiescences': 13,\n",
       " 'acquiescent': 11,\n",
       " 'acquiescently': 13,\n",
       " 'acquiesces': 10,\n",
       " 'acquiescing': 11,\n",
       " 'acquire': 7,\n",
       " 'acquired': 8,\n",
       " 'acquirer': 8,\n",
       " 'acquirers': 9,\n",
       " 'acquires': 8,\n",
       " 'acquiring': 9,\n",
       " 'acquisition': 11,\n",
       " 'acquisitions': 12,\n",
       " 'acquisitive': 11,\n",
       " 'acquit': 6,\n",
       " 'acquits': 7,\n",
       " 'acquitted': 9,\n",
       " 'acquitting': 10,\n",
       " 'acrasin': 7,\n",
       " 'acrasins': 8,\n",
       " 'acre': 4,\n",
       " 'acreage': 7,\n",
       " 'acreages': 8,\n",
       " 'acred': 5,\n",
       " 'acres': 5,\n",
       " 'acrid': 5,\n",
       " 'acrider': 7,\n",
       " 'acridest': 8,\n",
       " 'acridine': 8,\n",
       " 'acridines': 9,\n",
       " 'acridities': 10,\n",
       " 'acridity': 8,\n",
       " 'acridly': 7,\n",
       " 'acridness': 9,\n",
       " 'acridnesses': 11,\n",
       " 'acrimonies': 10,\n",
       " 'acrimonious': 11,\n",
       " 'acrimony': 8,\n",
       " 'acrobat': 7,\n",
       " 'acrobatic': 9,\n",
       " 'acrobats': 8,\n",
       " 'acrodont': 8,\n",
       " 'acrodonts': 9,\n",
       " 'acrogen': 7,\n",
       " 'acrogens': 8,\n",
       " 'acrolein': 8,\n",
       " 'acroleins': 9,\n",
       " 'acrolith': 8,\n",
       " 'acroliths': 9,\n",
       " 'acromia': 7,\n",
       " 'acromial': 8,\n",
       " 'acromion': 8,\n",
       " 'acronic': 7,\n",
       " 'acronym': 7,\n",
       " 'acronyms': 8,\n",
       " 'across': 6,\n",
       " 'acrostic': 8,\n",
       " 'acrostics': 9,\n",
       " 'acrotic': 7,\n",
       " 'acrotism': 8,\n",
       " 'acrotisms': 9,\n",
       " 'acrylate': 8,\n",
       " 'acrylates': 9,\n",
       " 'acrylic': 7,\n",
       " 'acrylics': 8,\n",
       " 'act': 3,\n",
       " 'acta': 4,\n",
       " 'actable': 7,\n",
       " 'acted': 5,\n",
       " 'actin': 5,\n",
       " 'actinal': 7,\n",
       " 'acting': 6,\n",
       " 'actings': 7,\n",
       " 'actinia': 7,\n",
       " 'actiniae': 8,\n",
       " 'actinian': 8,\n",
       " 'actinians': 9,\n",
       " 'actinias': 8,\n",
       " 'actinic': 7,\n",
       " 'actinide': 8,\n",
       " 'actinides': 9,\n",
       " 'actinism': 8,\n",
       " 'actinisms': 9,\n",
       " 'actinium': 8,\n",
       " 'actiniums': 9,\n",
       " 'actinoid': 8,\n",
       " 'actinoids': 9,\n",
       " 'actinon': 7,\n",
       " 'actinons': 8,\n",
       " 'actins': 6,\n",
       " 'action': 6,\n",
       " 'actions': 7,\n",
       " 'activate': 8,\n",
       " 'activated': 9,\n",
       " 'activates': 9,\n",
       " 'activating': 10,\n",
       " 'activation': 10,\n",
       " 'activations': 11,\n",
       " 'active': 6,\n",
       " 'actively': 8,\n",
       " 'actives': 7,\n",
       " 'activism': 8,\n",
       " 'activisms': 9,\n",
       " 'activist': 8,\n",
       " 'activists': 9,\n",
       " 'activities': 10,\n",
       " 'activity': 8,\n",
       " 'actor': 5,\n",
       " 'actorish': 8,\n",
       " 'actors': 6,\n",
       " 'actress': 7,\n",
       " 'actresses': 9,\n",
       " 'acts': 4,\n",
       " 'actual': 6,\n",
       " 'actualities': 11,\n",
       " 'actuality': 9,\n",
       " 'actualization': 13,\n",
       " 'actualizations': 14,\n",
       " 'actualize': 9,\n",
       " 'actualized': 10,\n",
       " 'actualizes': 10,\n",
       " 'actualizing': 11,\n",
       " 'actually': 8,\n",
       " 'actuarial': 9,\n",
       " 'actuaries': 9,\n",
       " ...}"
      ]
     },
     "execution_count": 35,
     "metadata": {},
     "output_type": "execute_result"
    }
   ],
   "source": [
    "word_len"
   ]
  },
  {
   "cell_type": "markdown",
   "metadata": {
    "hidden": true
   },
   "source": [
    "### Exercise 11-2 \n",
    "<br>\n",
    "Read the documentation of the dictionary method <b>setdefault</b> and use it to write a more concise version of invert_dict"
   ]
  },
  {
   "cell_type": "code",
   "execution_count": 38,
   "metadata": {
    "hidden": true
   },
   "outputs": [],
   "source": [
    "# original function\n",
    "\n",
    "def invert_dict(d):\n",
    "    inverse = dict()\n",
    "    for key in d:\n",
    "        val = d[key]\n",
    "        if val not in inverse:\n",
    "            inverse[val] = [key]\n",
    "        else:\n",
    "            inverse[val].append(key)\n",
    "    return inverse"
   ]
  },
  {
   "cell_type": "code",
   "execution_count": 40,
   "metadata": {
    "hidden": true
   },
   "outputs": [],
   "source": [
    "# with setdefault method\n",
    "\n",
    "def invert_dict2(d):\n",
    "    inverse = dict()\n",
    "    for key in d:\n",
    "        val = d[key]\n",
    "        inverse.setdefault(val, []).append(key)\n",
    "    return inverse\n"
   ]
  },
  {
   "cell_type": "code",
   "execution_count": 41,
   "metadata": {
    "hidden": true
   },
   "outputs": [
    {
     "name": "stdout",
     "output_type": "stream",
     "text": [
      "1 ['a', 'a', 'z']\n",
      "2 ['b', 'b']\n",
      "3 ['c', 'c']\n"
     ]
    }
   ],
   "source": [
    "if __name__ == '__main__':\n",
    "    d = dict(a=1, b=2, c=3, z=1)\n",
    "    inverse = invert_dict(d)\n",
    "    for val in inverse:\n",
    "        keys = inverse[val]\n",
    "        print(val, keys)"
   ]
  },
  {
   "cell_type": "markdown",
   "metadata": {
    "hidden": true
   },
   "source": [
    "### Exercise 11-4\n",
    "<br>\n",
    "If you did Exercise 10-7, you already have a function named has_duplicates that takes a list as parameter and returns True if there is any objects that appears more than once in the list.\n",
    "<br><br>\n",
    "Use a dictionary to write a faster, simpler version of has_duplicates"
   ]
  },
  {
   "cell_type": "code",
   "execution_count": 1,
   "metadata": {
    "hidden": true
   },
   "outputs": [],
   "source": [
    "# solution from exercise 10-7\n",
    "def has_duplicates(t):\n",
    "    set_t = list(set(t))\n",
    "    if len(set_t) != len(t):\n",
    "        return True\n",
    "    "
   ]
  },
  {
   "cell_type": "code",
   "execution_count": 2,
   "metadata": {
    "hidden": true
   },
   "outputs": [],
   "source": [
    "# solution with dictionary\n",
    "def has_duplicates(t):\n",
    "    dic = dict()\n",
    "    for x in t:\n",
    "        if x not in dic:\n",
    "            dic[x] = 1\n",
    "        else:\n",
    "            return True"
   ]
  },
  {
   "cell_type": "code",
   "execution_count": 3,
   "metadata": {
    "hidden": true
   },
   "outputs": [
    {
     "data": {
      "text/plain": [
       "True"
      ]
     },
     "execution_count": 3,
     "metadata": {},
     "output_type": "execute_result"
    }
   ],
   "source": [
    "h = (0,9,0,7,6)\n",
    "has_duplicates(h)"
   ]
  },
  {
   "cell_type": "code",
   "execution_count": 5,
   "metadata": {
    "hidden": true
   },
   "outputs": [],
   "source": [
    "k = (1,2,3,4)\n",
    "has_duplicates(k)"
   ]
  },
  {
   "cell_type": "code",
   "execution_count": 6,
   "metadata": {
    "hidden": true
   },
   "outputs": [],
   "source": [
    "# book solution\n",
    "def has_duplicates_bk(t):\n",
    "    d = {}\n",
    "    for x in t:\n",
    "        if x in d:\n",
    "            return True\n",
    "        d[x] = True\n",
    "    return False\n"
   ]
  },
  {
   "cell_type": "code",
   "execution_count": 7,
   "metadata": {
    "hidden": true
   },
   "outputs": [],
   "source": [
    "# book solution similar to my original but doesnt use dictionary?\n",
    "def has_duplicates_bk2(t):\n",
    "    return len(set(t)) < len(t)"
   ]
  },
  {
   "cell_type": "code",
   "execution_count": 8,
   "metadata": {
    "hidden": true
   },
   "outputs": [
    {
     "name": "stdout",
     "output_type": "stream",
     "text": [
      "False\n",
      "True\n",
      "False\n",
      "True\n"
     ]
    }
   ],
   "source": [
    "# test them\n",
    "if __name__ == '__main__':\n",
    "    t = [1, 2, 3]\n",
    "    print(has_duplicates_bk(t))\n",
    "    t.append(1)\n",
    "    print(has_duplicates_bk(t))\n",
    "\n",
    "    t = [1, 2, 3]\n",
    "    print(has_duplicates_bk2(t))\n",
    "    t.append(1)\n",
    "    print(has_duplicates_bk2(t))\n"
   ]
  },
  {
   "cell_type": "markdown",
   "metadata": {
    "hidden": true
   },
   "source": [
    "### Exercise 11-5\n",
    "<br>\n",
    "Two words are \"rotate words\" if you can rotate one of them and get the other (see rotate_word in Exercise 8-5)\n",
    "<br><br>\n",
    "Write a program that reads a wordlist and finds all rotate pairs"
   ]
  },
  {
   "cell_type": "code",
   "execution_count": 10,
   "metadata": {
    "hidden": true
   },
   "outputs": [],
   "source": [
    "# book solution\n",
    "\n",
    "from __future__ import print_function, division\n",
    "\n",
    "# rotate_word from 8-5\n",
    "def rotate_letter(letter, n):\n",
    "# rotates a letter by n places. does not change other char\n",
    "    if letter.isupper():\n",
    "        start = ord('A')\n",
    "    elif letter.islower():\n",
    "        start = ord('a')\n",
    "    else:\n",
    "        return letter\n",
    "    \n",
    "    c = ord(letter) - start\n",
    "    i = (c + n) % 26 + start\n",
    "    return chr(i)\n",
    "\n",
    "def rotate_word(word, n):\n",
    "    res = ''\n",
    "    for letter in word:\n",
    "        res += rotate_letter(letter, n)\n",
    "    return res\n",
    "\n",
    "def make_word_dict():\n",
    "    \"\"\"Reads the words in words.txt and return a dictionary that contains the words as keys\"\"\"\n",
    "    d = dict()\n",
    "    fin = open('words.txt')\n",
    "    for line in fin:\n",
    "        word = line.strip().lower()\n",
    "        d[word] = None\n",
    "    return d\n",
    "\n",
    "def rotate_pairs(word, word_dict):\n",
    "    \"\"\"Prints all words that be generated by rotating words.txt\n",
    "    \n",
    "    word: string\n",
    "    word_dict: dictionary with words as keys\"\"\"\n",
    "    for i in range(1, 14):\n",
    "        rotated = rotate_word(word, i)\n",
    "        if rotated in word_dict:\n",
    "            print(word, i, rotated)"
   ]
  },
  {
   "cell_type": "code",
   "execution_count": 11,
   "metadata": {
    "hidden": true
   },
   "outputs": [
    {
     "name": "stdout",
     "output_type": "stream",
     "text": [
      "aah 4 eel\n",
      "abet 7 hila\n",
      "abjurer 13 nowhere\n",
      "abo 4 efs\n",
      "abo 13 nob\n",
      "aby 3 deb\n",
      "ache 6 gink\n",
      "ad 1 be\n",
      "ad 4 eh\n",
      "ad 11 lo\n",
      "add 1 bee\n",
      "add 8 ill\n",
      "add 11 loo\n",
      "adder 1 beefs\n",
      "adds 1 beet\n",
      "ado 5 fit\n",
      "ads 1 bet\n",
      "ads 5 fix\n",
      "adz 5 fie\n",
      "aff 8 inn\n",
      "aga 4 eke\n",
      "ah 1 bi\n",
      "ah 4 el\n",
      "ah 7 ho\n",
      "ah 13 nu\n",
      "aha 1 bib\n",
      "aha 13 nun\n",
      "ahem 7 holt\n",
      "ahull 6 gnarr\n",
      "ai 4 em\n",
      "ai 6 go\n",
      "ai 12 mu\n",
      "ail 6 gor\n",
      "ails 6 gory\n",
      "ain 6 got\n",
      "air 6 gox\n",
      "air 12 mud\n",
      "ais 6 goy\n",
      "alb 3 doe\n",
      "ale 9 jun\n",
      "alkyd 4 epoch\n",
      "alp 3 dos\n",
      "alt 3 dow\n",
      "am 12 my\n",
      "ambo 12 myna\n",
      "amu 2 cow\n",
      "an 1 bo\n",
      "an 4 er\n",
      "an 13 na\n",
      "ana 1 bob\n",
      "ana 4 ere\n",
      "ana 7 huh\n",
      "ani 7 hup\n",
      "anil 13 navy\n",
      "anna 1 boob\n",
      "ant 11 lye\n",
      "ant 13 nag\n",
      "anteed 1 bouffe\n",
      "ants 1 bout\n",
      "ape 11 lap\n",
      "aped 5 fuji\n",
      "arf 3 dui\n",
      "aril 7 hyps\n",
      "ark 3 dun\n",
      "arm 3 dup\n",
      "ars 9 jab\n",
      "as 12 me\n",
      "ash 12 met\n",
      "ask 2 cum\n",
      "ask 12 mew\n",
      "asp 2 cur\n",
      "at 4 ex\n",
      "at 7 ha\n",
      "atma 7 hath\n",
      "auk 2 cwm\n",
      "avo 5 fat\n",
      "avo 13 nib\n",
      "aw 12 mi\n",
      "awa 12 mim\n",
      "awl 12 mix\n",
      "awn 4 ear\n",
      "axal 3 dado\n",
      "axe 3 dah\n",
      "axe 11 lip\n",
      "ays 6 gey\n",
      "azo 5 fet\n",
      "azon 5 fets\n",
      "ba 13 on\n",
      "baa 4 fee\n",
      "baal 3 eddo\n",
      "baff 8 jinn\n",
      "balk 13 onyx\n",
      "ban 4 fer\n",
      "banjo 4 ferns\n",
      "bar 13 one\n",
      "barf 13 ones\n",
      "bas 4 few\n",
      "bat 8 jib\n",
      "batt 8 jibb\n",
      "bay 8 jig\n",
      "be 3 eh\n",
      "be 10 lo\n",
      "be 13 or\n",
      "bed 7 ilk\n",
      "bee 7 ill\n",
      "bee 10 loo\n",
      "beef 10 loop\n",
      "been 13 orra\n",
      "beer 7 illy\n",
      "beg 13 ort\n",
      "ben 4 fir\n",
      "ben 10 lox\n",
      "ben 13 ora\n",
      "berg 9 knap\n",
      "bet 4 fix\n",
      "bi 3 el\n",
      "bi 6 ho\n",
      "bi 12 nu\n",
      "bib 12 nun\n",
      "biffs 6 holly\n",
      "big 12 nus\n",
      "bin 6 hot\n",
      "bin 13 ova\n",
      "bis 6 hoy\n",
      "bo 3 er\n",
      "bo 12 na\n",
      "boa 6 hug\n",
      "boas 12 name\n",
      "bob 3 ere\n",
      "bob 6 huh\n",
      "bod 3 erg\n",
      "bod 12 nap\n",
      "bods 12 nape\n",
      "boff 6 hull\n",
      "bog 6 hum\n",
      "bolls 6 hurry\n",
      "bomb 6 hush\n",
      "bombyx 6 hushed\n",
      "boo 3 err\n",
      "bop 3 ers\n",
      "bop 12 nab\n",
      "bos 12 nae\n",
      "box 3 era\n",
      "boy 6 hue\n",
      "brie 9 karn\n",
      "bub 6 hah\n",
      "bub 13 oho\n",
      "bud 6 haj\n",
      "buff 6 hall\n",
      "buffi 6 hallo\n",
      "bug 6 ham\n",
      "bulls 6 harry\n",
      "bum 6 has\n",
      "bun 6 hat\n",
      "bun 10 lex\n",
      "bus 6 hay\n",
      "but 10 led\n",
      "buts 6 hazy\n",
      "butyl 6 hazer\n",
      "buy 6 hae\n",
      "buy 10 lei\n",
      "by 2 da\n",
      "by 6 he\n",
      "by 7 if\n",
      "by 10 li\n",
      "bye 2 dag\n",
      "byre 9 khan\n",
      "bys 6 hey\n",
      "byte 10 lido\n",
      "calk 8 kits\n",
      "cans 8 kiva\n",
      "cap 4 get\n",
      "capo 4 gets\n",
      "caps 2 ecru\n",
      "cede 10 mono\n",
      "cedi 10 mons\n",
      "cee 2 egg\n",
      "cee 10 moo\n",
      "ceil 4 gimp\n",
      "chain 6 ingot\n",
      "char 1 dibs\n",
      "chat 13 pung\n",
      "cheer 7 jolly\n",
      "chef 13 purs\n",
      "cloy 3 forb\n",
      "cobb 3 free\n",
      "col 3 fro\n",
      "cold 3 frog\n",
      "colt 3 frow\n",
      "cord 3 frug\n",
      "cot 12 oaf\n",
      "coy 12 oak\n",
      "craal 13 penny\n",
      "crag 13 pent\n",
      "crap 3 fuds\n",
      "creel 13 perry\n",
      "crib 9 lark\n",
      "crop 3 furs\n",
      "cry 2 eta\n",
      "cry 3 fub\n",
      "cub 10 mel\n",
      "cubed 10 melon\n",
      "cud 10 men\n",
      "cum 10 mew\n",
      "cuss 12 ogee\n",
      "czar 1 dabs\n",
      "da 4 he\n",
      "da 5 if\n",
      "da 8 li\n",
      "dab 7 khi\n",
      "daff 8 linn\n",
      "dah 8 lip\n",
      "dak 8 lis\n",
      "danio 4 herms\n",
      "dank 4 hero\n",
      "dap 4 het\n",
      "dash 11 olds\n",
      "daw 8 lie\n",
      "dawk 8 lies\n",
      "dawn 4 hear\n",
      "de 1 ef\n",
      "de 4 hi\n",
      "de 10 no\n",
      "de 11 op\n",
      "dee 1 eff\n",
      "dee 10 noo\n",
      "deed 10 noon\n",
      "deer 1 effs\n",
      "dei 4 him\n",
      "dei 10 nos\n",
      "dei 11 opt\n",
      "del 4 hip\n",
      "des 1 eft\n",
      "dew 10 nog\n",
      "dex 10 noh\n",
      "dey 4 hic\n",
      "dib 12 pun\n",
      "did 12 pup\n",
      "dido 12 pupa\n",
      "didos 12 pupae\n",
      "dig 12 pus\n",
      "din 5 ins\n",
      "din 6 jot\n",
      "dip 12 pub\n",
      "djin 5 ions\n",
      "do 5 it\n",
      "do 12 pa\n",
      "dodo 6 juju\n",
      "dodo 12 papa\n",
      "doff 12 parr\n",
      "dog 12 pas\n",
      "dogs 12 pase\n",
      "dol 12 pax\n",
      "dols 6 jury\n",
      "dolt 3 grow\n",
      "dom 6 jus\n",
      "dom 12 pay\n",
      "don 5 its\n",
      "don 6 jut\n",
      "dor 12 pad\n",
      "dory 3 grub\n",
      "doxy 3 grab\n",
      "drab 3 gude\n",
      "drib 9 mark\n",
      "drip 3 guls\n",
      "drips 11 octad\n",
      "dud 1 eve\n",
      "dug 6 jam\n",
      "dui 11 oft\n",
      "duly 10 nevi\n",
      "dye 2 fag\n",
      "eat 8 mib\n",
      "eats 11 pled\n",
      "eau 10 oke\n",
      "eaux 10 okeh\n",
      "ebbs 13 roof\n",
      "eche 6 kink\n",
      "eches 6 kinky\n",
      "ef 3 hi\n",
      "ef 9 no\n",
      "ef 10 op\n",
      "eff 9 noo\n",
      "efs 9 nob\n",
      "egad 8 moil\n",
      "egg 8 moo\n",
      "ego 8 mow\n",
      "eh 7 lo\n",
      "eh 10 or\n",
      "el 3 ho\n",
      "el 9 nu\n",
      "eld 3 hog\n",
      "elds 9 numb\n",
      "elk 9 nut\n",
      "elm 3 hop\n",
      "els 2 gnu\n",
      "els 9 nub\n",
      "em 2 go\n",
      "em 8 mu\n",
      "em 10 ow\n",
      "eme 8 mum\n",
      "emu 10 owe\n",
      "en 10 ox\n",
      "end 1 foe\n",
      "eng 1 foh\n",
      "eng 4 irk\n",
      "eng 13 rat\n",
      "envy 13 rail\n",
      "er 9 na\n",
      "er 13 re\n",
      "ere 3 huh\n",
      "erg 9 nap\n",
      "erg 13 ret\n",
      "erne 13 rear\n",
      "err 13 ree\n",
      "errs 13 reef\n",
      "ers 9 nab\n",
      "ers 13 ref\n",
      "es 8 ma\n",
      "eses 8 mama\n",
      "et 7 la\n",
      "et 10 od\n",
      "et 11 pe\n",
      "eta 1 fub\n",
      "etch 11 pens\n",
      "eth 11 pes\n",
      "etui 10 odes\n",
      "ewe 8 mem\n",
      "ex 3 ha\n",
      "ex 10 oh\n",
      "ex 11 pi\n",
      "eye 2 gag\n",
      "fa 3 id\n",
      "fad 8 nil\n",
      "fang 4 jerk\n",
      "fas 4 jew\n",
      "fat 8 nib\n",
      "feed 10 poon\n",
      "feet 10 pood\n",
      "fen 10 pox\n",
      "fet 10 pod\n",
      "fey 10 poi\n",
      "fib 12 run\n",
      "fibs 12 rune\n",
      "fido 5 knit\n",
      "figs 12 ruse\n",
      "fills 6 lorry\n",
      "fils 6 lory\n",
      "fin 6 lot\n",
      "fir 6 lox\n",
      "fir 9 ora\n",
      "firs 12 rude\n",
      "fit 9 orc\n",
      "fizz 5 knee\n",
      "fizzy 5 kneed\n",
      "flap 13 sync\n",
      "flu 9 oud\n",
      "foam 6 lugs\n",
      "fob 3 ire\n",
      "fob 12 ran\n",
      "fog 6 lum\n",
      "fog 12 ras\n",
      "fogs 12 rase\n",
      "foh 3 irk\n",
      "foh 12 rat\n",
      "fohn 6 lunt\n",
      "folk 3 iron\n",
      "fon 10 pyx\n",
      "fons 12 raze\n",
      "fop 9 oxy\n",
      "for 6 lux\n",
      "for 12 rad\n",
      "fou 10 pye\n",
      "fou 12 rag\n",
      "fox 12 raj\n",
      "foys 10 pyic\n",
      "foys 12 rake\n",
      "frag 13 sent\n",
      "frere 13 serer\n",
      "fry 13 sel\n",
      "fud 10 pen\n",
      "fug 6 lam\n",
      "fuji 10 pets\n",
      "fumy 6 lase\n",
      "fun 6 lat\n",
      "fur 6 lax\n",
      "fur 13 she\n",
      "fusion 6 layout\n",
      "gab 4 kef\n",
      "gad 8 oil\n",
      "gaen 4 keir\n",
      "gal 4 kep\n",
      "gale 4 kepi\n",
      "ganja 4 kerne\n",
      "gassy 12 smeek\n",
      "gat 4 kex\n",
      "gel 4 kip\n",
      "gel 13 try\n",
      "ghat 13 tung\n",
      "gib 12 sun\n",
      "gid 12 sup\n",
      "gids 12 supe\n",
      "gift 12 surf\n",
      "gig 6 mom\n",
      "gin 6 mot\n",
      "ginny 6 motte\n",
      "gip 9 pry\n",
      "gip 12 sub\n",
      "gird 9 pram\n",
      "girl 9 prau\n",
      "glib 3 jole\n",
      "gnar 1 hobs\n",
      "gnat 13 tang\n",
      "gnu 7 nub\n",
      "go 6 mu\n",
      "go 8 ow\n",
      "goa 6 mug\n",
      "goad 12 samp\n",
      "goas 12 same\n",
      "gobs 12 sane\n",
      "goby 12 sank\n",
      "god 8 owl\n",
      "god 12 sap\n",
      "golem 6 murks\n",
      "golly 6 murre\n",
      "gor 12 sad\n",
      "gowk 8 owes\n",
      "gox 6 mud\n",
      "goys 12 sake\n",
      "green 13 terra\n",
      "guff 6 mall\n",
      "gul 6 mar\n",
      "gul 13 thy\n",
      "gulf 6 marl\n",
      "gulfs 6 marly\n",
      "gulls 6 marry\n",
      "gum 6 mas\n",
      "gummy 6 masse\n",
      "gun 6 mat\n",
      "gunny 6 matte\n",
      "guts 6 mazy\n",
      "guy 6 mae\n",
      "gym 12 sky\n",
      "ha 7 oh\n",
      "ha 8 pi\n",
      "ha 13 un\n",
      "hade 11 slop\n",
      "hae 4 lei\n",
      "haes 8 pima\n",
      "hag 4 lek\n",
      "hah 7 oho\n",
      "hah 8 pip\n",
      "haji 11 slut\n",
      "ham 8 piu\n",
      "hap 4 let\n",
      "hap 8 pix\n",
      "hark 4 levo\n",
      "has 8 pia\n",
      "hat 4 lex\n",
      "hats 11 sled\n",
      "haw 4 lea\n",
      "haw 8 pie\n",
      "hawk 8 pies\n",
      "hay 8 pig\n",
      "he 1 if\n",
      "he 4 li\n",
      "heil 4 limp\n",
      "hem 10 row\n",
      "hen 11 spy\n",
      "hep 4 lit\n",
      "hep 11 spa\n",
      "her 1 ifs\n",
      "her 10 rob\n",
      "hern 13 urea\n",
      "hes 10 roc\n",
      "het 10 rod\n",
      "hew 7 old\n",
      "hewn 4 liar\n",
      "hex 4 lib\n",
      "hex 7 ole\n",
      "hi 6 no\n",
      "hi 7 op\n",
      "hid 12 tup\n",
      "hide 11 stop\n",
      "him 6 nos\n",
      "him 7 opt\n",
      "hin 6 not\n",
      "hin 11 sty\n",
      "hint 11 stye\n",
      "hints 11 styed\n",
      "hip 12 tub\n",
      "hips 12 tube\n",
      "ho 6 nu\n",
      "ho 12 ta\n",
      "hob 12 tan\n",
      "hod 12 tap\n",
      "hods 12 tape\n",
      "hog 12 tas\n",
      "hogg 12 tass\n",
      "hoggs 12 tasse\n",
      "hop 12 tab\n",
      "hot 7 ova\n",
      "hotel 7 ovals\n",
      "hoys 12 take\n",
      "hub 7 obi\n",
      "huff 10 repp\n",
      "huic 6 naoi\n",
      "hun 10 rex\n",
      "hut 10 red\n",
      "hymn 6 nest\n",
      "hyp 2 jar\n",
      "ibex 7 pile\n",
      "ice 2 keg\n",
      "icy 2 kea\n",
      "id 11 to\n",
      "id 12 up\n",
      "idem 10 snow\n",
      "ids 1 jet\n",
      "ids 5 nix\n",
      "ids 11 tod\n",
      "if 3 li\n",
      "ifs 9 rob\n",
      "ilex 9 rung\n",
      "ilk 9 rut\n",
      "ill 3 loo\n",
      "imp 2 kor\n",
      "in 1 jo\n",
      "ink 7 pur\n",
      "inkier 7 purply\n",
      "inks 1 jolt\n",
      "ins 1 jot\n",
      "ion 6 out\n",
      "ire 9 ran\n",
      "irk 9 rat\n",
      "irk 13 vex\n",
      "is 6 oy\n",
      "it 7 pa\n",
      "itch 11 tens\n",
      "its 1 jut\n",
      "its 11 ted\n",
      "ivy 6 obe\n",
      "izar 1 jabs\n",
      "jay 8 rig\n",
      "jee 10 too\n",
      "jeed 10 toon\n",
      "jehu 10 tore\n",
      "jerky 9 snath\n",
      "jet 4 nix\n",
      "jet 10 tod\n",
      "jeu 10 toe\n",
      "jew 10 tog\n",
      "jib 6 poh\n",
      "jiff 6 poll\n",
      "jiffs 6 polly\n",
      "jimmy 6 posse\n",
      "jin 5 ons\n",
      "jin 6 pot\n",
      "jinni 6 potto\n",
      "jinns 6 potty\n",
      "job 12 van\n",
      "jobs 12 vane\n",
      "joey 6 puke\n",
      "jog 12 vas\n",
      "jogs 12 vase\n",
      "john 6 punt\n",
      "johns 6 punty\n",
      "jug 6 pam\n",
      "juju 6 papa\n",
      "jun 6 pat\n",
      "jun 13 wha\n",
      "jura 13 when\n",
      "jus 6 pay\n",
      "jut 10 ted\n",
      "ka 4 oe\n",
      "ka 8 si\n",
      "kae 8 sim\n",
      "kaes 8 sima\n",
      "kat 8 sib\n",
      "khan 8 spiv\n",
      "kip 9 try\n",
      "knar 1 lobs\n",
      "knur 7 ruby\n",
      "koa 4 ose\n",
      "koas 12 wame\n",
      "kop 12 wab\n",
      "kor 12 wad\n",
      "kors 12 wade\n",
      "kos 12 wae\n",
      "la 3 od\n",
      "la 4 pe\n",
      "la 7 sh\n",
      "la 8 ti\n",
      "lab 3 ode\n",
      "lac 4 peg\n",
      "lad 8 til\n",
      "lallan 4 pepper\n",
      "lane 4 peri\n",
      "lane 7 shul\n",
      "lang 4 perk\n",
      "lang 7 shun\n",
      "lap 3 ods\n",
      "lap 4 pet\n",
      "lar 7 shy\n",
      "las 4 pew\n",
      "later 7 shaly\n",
      "latex 7 shale\n",
      "law 4 pea\n",
      "law 8 tie\n",
      "lawn 4 pear\n",
      "lax 7 she\n",
      "lea 4 pie\n",
      "lean 4 pier\n",
      "led 10 von\n",
      "let 4 pix\n",
      "leu 10 voe\n",
      "ley 4 pic\n",
      "li 12 xu\n",
      "lib 3 ole\n",
      "lie 9 urn\n",
      "limy 6 rose\n",
      "lin 6 rot\n",
      "ling 7 spun\n",
      "link 7 spur\n",
      "linum 6 rotas\n",
      "liny 6 rote\n",
      "lion 6 rout\n",
      "lit 7 spa\n",
      "lo 3 or\n",
      "loaf 8 twin\n",
      "loam 6 rugs\n",
      "lob 3 ore\n",
      "loch 6 ruin\n",
      "log 6 rum\n",
      "log 8 two\n",
      "loop 4 psst\n",
      "lop 3 ors\n",
      "lowe 6 ruck\n",
      "lox 3 ora\n",
      "luau 6 raga\n",
      "luffs 6 rally\n",
      "lug 6 ram\n",
      "lum 6 ras\n",
      "luna 4 pyre\n",
      "luny 6 rate\n",
      "lutea 4 pyxie\n",
      "lux 6 rad\n",
      "lye 2 nag\n",
      "manful 7 thumbs\n",
      "mar 7 thy\n",
      "may 2 oca\n",
      "me 10 wo\n",
      "meet 10 wood\n",
      "mem 10 wow\n",
      "mho 1 nip\n",
      "mho 10 wry\n",
      "mi 6 so\n",
      "mid 12 yup\n",
      "mills 6 sorry\n",
      "milt 3 plow\n",
      "mim 6 sos\n",
      "mir 6 sox\n",
      "mis 6 soy\n",
      "mix 6 sod\n",
      "moa 12 yam\n",
      "mocha 6 suing\n",
      "mod 12 yap\n",
      "mog 6 sum\n",
      "mol 3 pro\n",
      "mola 3 prod\n",
      "molas 6 surgy\n",
      "mold 3 prog\n",
      "molt 3 prow\n",
      "moly 6 sure\n",
      "mom 12 yay\n",
      "mott 12 yaff\n",
      "mu 2 ow\n",
      "mu 10 we\n",
      "much 6 sain\n",
      "mud 10 wen\n",
      "muff 6 sall\n",
      "muffs 6 sally\n",
      "mulch 6 sarin\n",
      "mule 6 sark\n",
      "mumm 6 sass\n",
      "mumms 6 sassy\n",
      "mun 6 sat\n",
      "munch 6 satin\n",
      "mus 6 say\n",
      "mut 10 wed\n",
      "muumuu 10 weewee\n",
      "na 4 re\n",
      "na 13 an\n",
      "nab 4 ref\n",
      "nae 4 rei\n",
      "nae 8 vim\n",
      "nag 13 ant\n",
      "nap 4 ret\n",
      "navy 13 anil\n",
      "nay 4 rec\n",
      "nee 1 off\n",
      "nib 13 avo\n",
      "nil 6 tor\n",
      "nil 7 ups\n",
      "nill 6 torr\n",
      "nils 6 tory\n",
      "nip 9 wry\n",
      "nisi 6 toyo\n",
      "nix 6 tod\n",
      "no 1 op\n",
      "nob 13 abo\n",
      "nod 1 ope\n",
      "nod 12 zap\n",
      "noggs 6 tummy\n",
      "noh 6 tun\n",
      "nome 6 tusk\n",
      "nor 1 ops\n",
      "nor 6 tux\n",
      "nos 1 opt\n",
      "not 5 sty\n",
      "nowhere 13 abjurer\n",
      "nth 11 yes\n",
      "nu 6 ta\n",
      "nu 13 ah\n",
      "nulls 6 tarry\n",
      "nun 6 tat\n",
      "nun 13 aha\n",
      "nutty 6 tazze\n",
      "oaf 8 win\n",
      "oafs 6 ugly\n",
      "oak 8 wis\n",
      "oar 8 wiz\n",
      "oat 4 sex\n",
      "od 1 pe\n",
      "od 4 sh\n",
      "od 5 ti\n",
      "odd 1 pee\n",
      "odd 4 shh\n",
      "odd 11 zoo\n",
      "odor 1 peps\n",
      "ods 1 pet\n",
      "ods 12 ape\n",
      "oe 4 si\n",
      "of 12 ar\n",
      "oft 12 arf\n",
      "oh 1 pi\n",
      "oh 6 un\n",
      "oh 12 at\n",
      "ohm 1 pin\n",
      "ohm 6 uns\n",
      "ohms 1 pint\n",
      "oho 1 pip\n",
      "oho 13 bub\n",
      "ohs 1 pit\n",
      "ohs 12 ate\n",
      "oka 10 yuk\n",
      "okeh 4 soil\n",
      "olla 3 rood\n",
      "om 6 us\n",
      "om 12 ay\n",
      "oms 12 aye\n",
      "on 6 ut\n",
      "on 13 ba\n",
      "one 4 sri\n",
      "one 13 bar\n",
      "ones 13 barf\n",
      "ons 1 pot\n",
      "onyx 13 balk\n",
      "opal 4 step\n",
      "ope 11 zap\n",
      "open 4 stir\n",
      "ops 5 tux\n",
      "or 12 ad\n",
      "or 13 be\n",
      "ora 13 ben\n",
      "orb 3 rue\n",
      "orc 12 ado\n",
      "ordo 5 twit\n"
     ]
    },
    {
     "name": "stdout",
     "output_type": "stream",
     "text": [
      "orra 13 been\n",
      "ort 13 beg\n",
      "os 12 ae\n",
      "oud 10 yen\n",
      "ova 13 bin\n",
      "ow 8 we\n",
      "ow 12 ai\n",
      "owl 4 sap\n",
      "owl 8 wet\n",
      "oxim 6 udos\n",
      "oxter 7 vealy\n",
      "pa 8 xi\n",
      "pac 4 teg\n",
      "pah 7 who\n",
      "paid 11 alto\n",
      "pap 11 ala\n",
      "par 7 why\n",
      "pas 4 tew\n",
      "pat 7 wha\n",
      "pat 11 ale\n",
      "path 11 ales\n",
      "paw 4 tea\n",
      "pawn 4 tear\n",
      "pe 3 sh\n",
      "pe 4 ti\n",
      "pea 4 tie\n",
      "pean 4 tier\n",
      "pecan 4 tiger\n",
      "pee 3 shh\n",
      "pee 10 zoo\n",
      "peed 10 zoon\n",
      "pele 4 tipi\n",
      "pelt 3 show\n",
      "penny 13 craal\n",
      "pent 13 crag\n",
      "pep 4 tit\n",
      "pepo 4 tits\n",
      "peri 3 shul\n",
      "perk 3 shun\n",
      "perry 13 creel\n",
      "pet 11 ape\n",
      "pets 11 aped\n",
      "phew 7 wold\n",
      "phi 7 wop\n",
      "pi 5 un\n",
      "pi 11 at\n",
      "pia 12 bum\n",
      "pig 12 bus\n",
      "pily 3 slob\n",
      "pin 5 uns\n",
      "piny 6 vote\n",
      "pip 12 bub\n",
      "pit 11 ate\n",
      "pith 11 ates\n",
      "piu 12 bug\n",
      "pixy 3 slab\n",
      "ploy 3 sorb\n",
      "ply 3 sob\n",
      "pod 11 azo\n",
      "pogy 12 bask\n",
      "poh 12 bat\n",
      "pops 12 babe\n",
      "prex 7 wyle\n",
      "prex 9 yang\n",
      "primero 3 sulphur\n",
      "proa 3 surd\n",
      "pry 3 sub\n",
      "pry 9 yah\n",
      "psst 12 beef\n",
      "pull 4 typp\n",
      "pulpy 6 varve\n",
      "puls 6 vary\n",
      "pun 6 vat\n",
      "puna 4 tyre\n",
      "pung 13 chat\n",
      "punk 4 tyro\n",
      "pup 6 vav\n",
      "purs 13 chef\n",
      "put 10 zed\n",
      "pya 6 veg\n",
      "pye 2 rag\n",
      "pyic 2 rake\n",
      "qua 6 wag\n",
      "quay 6 wage\n",
      "quey 6 wake\n",
      "rads 11 clod\n",
      "rah 8 zip\n",
      "rail 13 envy\n",
      "rap 4 vet\n",
      "rape 11 clap\n",
      "raphe 11 clasp\n",
      "raps 11 clad\n",
      "rat 4 vex\n",
      "rat 13 eng\n",
      "ratan 4 vexer\n",
      "ray 8 zig\n",
      "re 9 an\n",
      "re 10 bo\n",
      "re 13 er\n",
      "rear 13 erne\n",
      "redo 10 bony\n",
      "ree 10 boo\n",
      "ree 13 err\n",
      "reed 10 boon\n",
      "reef 13 errs\n",
      "ref 10 bop\n",
      "ref 13 ers\n",
      "rei 4 vim\n",
      "rei 10 bos\n",
      "rem 10 bow\n",
      "rep 9 any\n",
      "ret 10 bod\n",
      "ret 13 erg\n",
      "rev 9 ane\n",
      "rho 1 sip\n",
      "rib 9 ark\n",
      "rib 12 dun\n",
      "ribs 12 dune\n",
      "rid 9 arm\n",
      "rid 12 dup\n",
      "rids 12 dupe\n",
      "riff 12 durr\n",
      "rip 12 dub\n",
      "river 9 arena\n",
      "road 12 damp\n",
      "rod 12 dap\n",
      "roof 13 ebbs\n",
      "rub 10 bel\n",
      "ruddy 10 benni\n",
      "rum 2 two\n",
      "rut 10 bed\n",
      "rye 2 tag\n",
      "rye 10 bio\n",
      "sad 8 ail\n",
      "sae 8 aim\n",
      "sag 12 ems\n",
      "sal 8 ait\n",
      "salp 4 wept\n",
      "sap 4 wet\n",
      "sawn 4 wear\n",
      "sax 4 web\n",
      "sea 8 ami\n",
      "seas 8 amia\n",
      "sec 4 wig\n",
      "secco 10 commy\n",
      "see 10 coo\n",
      "seed 10 coon\n",
      "sei 10 cos\n",
      "sel 13 fry\n",
      "semi 10 cows\n",
      "sen 10 cox\n",
      "sent 13 frag\n",
      "ser 10 cob\n",
      "sera 4 wive\n",
      "serer 13 frere\n",
      "set 10 cod\n",
      "setal 8 ambit\n",
      "sew 10 cog\n",
      "sewed 10 cogon\n",
      "sh 1 ti\n",
      "sh 12 et\n",
      "she 13 fur\n",
      "sheer 1 tiffs\n",
      "shh 7 zoo\n",
      "shog 12 etas\n",
      "shute 10 credo\n",
      "sic 2 uke\n",
      "silk 9 brut\n",
      "sims 8 aqua\n",
      "sir 9 bra\n",
      "sire 9 bran\n",
      "six 6 yod\n",
      "size 9 brin\n",
      "skua 8 asci\n",
      "slag 2 unci\n",
      "slam 2 unco\n",
      "sleep 9 bunny\n",
      "slip 9 bury\n",
      "smog 12 eyas\n",
      "sneer 1 toffs\n",
      "so 8 aw\n",
      "sod 8 awl\n",
      "soil 12 eaux\n",
      "sos 8 awa\n",
      "sow 8 awe\n",
      "spat 11 dale\n",
      "spic 9 byrl\n",
      "spit 11 date\n",
      "spits 11 dated\n",
      "spiv 9 byre\n",
      "splits 11 dawted\n",
      "spot 11 daze\n",
      "spots 11 dazed\n",
      "sri 9 bar\n",
      "sris 9 barb\n",
      "star 1 tubs\n",
      "steeds 1 tuffet\n",
      "steer 1 tuffs\n",
      "stun 11 defy\n",
      "sub 6 yah\n",
      "sue 6 yak\n",
      "sulk 8 acts\n",
      "swop 4 wast\n",
      "syn 6 yet\n",
      "sync 6 yeti\n",
      "sync 13 flap\n",
      "ta 7 ah\n",
      "ta 8 bi\n",
      "ta 11 el\n",
      "tab 11 elm\n",
      "tag 8 bio\n",
      "tahr 7 ahoy\n",
      "talk 8 bits\n",
      "tall 8 bitt\n",
      "tang 13 gnat\n",
      "tas 11 eld\n",
      "task 8 bias\n",
      "tat 7 aha\n",
      "tat 8 bib\n",
      "tau 11 elf\n",
      "tav 8 bid\n",
      "ted 10 don\n",
      "tee 7 all\n",
      "teloi 3 whorl\n",
      "tenet 7 alula\n",
      "terra 13 green\n",
      "tew 10 dog\n",
      "then 11 espy\n",
      "tho 10 dry\n",
      "thy 13 gul\n",
      "ti 11 et\n",
      "timer 7 aptly\n",
      "tins 12 fuze\n",
      "tip 9 cry\n",
      "tip 11 eta\n",
      "tip 12 fub\n",
      "to 1 up\n",
      "to 12 fa\n",
      "tog 12 fas\n",
      "tom 12 fay\n",
      "ton 1 upo\n",
      "tons 12 faze\n",
      "tor 1 ups\n",
      "tor 12 fad\n",
      "torc 12 fado\n",
      "tors 12 fade\n",
      "torus 12 fadge\n",
      "tot 7 ava\n",
      "touch 12 fagot\n",
      "tout 10 dyed\n",
      "toys 12 fake\n",
      "trek 9 cant\n",
      "trig 9 carp\n",
      "try 13 gel\n",
      "tsars 8 baiza\n",
      "tsk 8 bas\n",
      "tsk 12 few\n",
      "tub 10 del\n",
      "tui 10 des\n",
      "tui 11 eft\n",
      "tun 10 dex\n",
      "tung 13 ghat\n",
      "tut 7 aba\n",
      "typy 2 vara\n",
      "ugh 8 cop\n",
      "umps 12 gybe\n",
      "un 6 at\n",
      "un 10 ex\n",
      "un 13 ha\n",
      "up 11 fa\n",
      "ups 11 fad\n",
      "urd 9 dam\n",
      "urea 13 hern\n",
      "uredo 10 ebony\n",
      "urn 9 daw\n",
      "us 6 ay\n",
      "use 8 cam\n",
      "ut 7 ba\n",
      "uta 7 bah\n",
      "uts 11 fed\n",
      "vans 8 diva\n",
      "vat 8 dib\n",
      "vats 11 gled\n",
      "vav 8 did\n",
      "vaw 8 die\n",
      "vex 9 eng\n",
      "vex 10 foh\n",
      "vex 13 irk\n",
      "via 6 bog\n",
      "via 12 hum\n",
      "vie 9 ern\n",
      "vim 6 bos\n",
      "vin 6 bot\n",
      "viola 6 bourg\n",
      "vis 6 boy\n",
      "vis 12 hue\n",
      "von 6 but\n",
      "vox 6 bud\n",
      "vox 12 haj\n",
      "wad 12 imp\n",
      "we 4 ai\n",
      "we 8 em\n",
      "we 10 go\n",
      "weal 8 emit\n",
      "wee 10 goo\n",
      "weed 10 goon\n",
      "weet 10 good\n",
      "wen 4 air\n",
      "wen 10 gox\n",
      "were 10 gobo\n",
      "wet 10 god\n",
      "wha 4 ale\n",
      "wha 13 jun\n",
      "whee 7 doll\n",
      "wheel 7 dolls\n",
      "when 13 jura\n",
      "whew 10 grog\n",
      "whir 7 dopy\n",
      "whit 7 dopa\n",
      "wich 6 coin\n",
      "wile 6 cork\n",
      "wiles 6 corky\n",
      "wily 6 core\n",
      "win 6 cot\n",
      "winy 6 cote\n",
      "wis 6 coy\n",
      "wit 6 coz\n",
      "wits 6 cozy\n",
      "wiver 9 frena\n",
      "wo 4 as\n",
      "wolf 6 curl\n",
      "wolfs 6 curly\n",
      "wombs 6 cushy\n",
      "won 6 cut\n",
      "woo 4 ass\n",
      "wow 8 ewe\n",
      "wyle 2 yang\n",
      "xeric 9 gnarl\n",
      "xi 6 do\n",
      "xi 11 it\n",
      "xu 4 by\n",
      "xu 6 da\n",
      "xu 10 he\n",
      "xu 11 if\n",
      "yah 8 gip\n",
      "yank 4 cero\n",
      "yar 2 act\n",
      "yaw 8 gie\n",
      "yay 8 gig\n",
      "yen 7 flu\n",
      "yeti 7 flap\n",
      "yom 12 kay\n",
      "zax 1 aby\n",
      "zax 4 deb\n",
      "zebu 7 glib\n",
      "zebu 10 jole\n",
      "zee 1 aff\n",
      "zee 9 inn\n",
      "zips 12 lube\n",
      "zoa 6 fug\n",
      "zoa 12 lam\n"
     ]
    }
   ],
   "source": [
    "if __name__ == '__main__':\n",
    "    word_dict = make_word_dict()\n",
    "\n",
    "    for word in word_dict:\n",
    "        rotate_pairs(word, word_dict)"
   ]
  },
  {
   "cell_type": "markdown",
   "metadata": {},
   "source": [
    "# Ch.12 Tuples"
   ]
  },
  {
   "cell_type": "code",
   "execution_count": 12,
   "metadata": {},
   "outputs": [
    {
     "data": {
      "text/plain": [
       "('a', 'b', 'c')"
      ]
     },
     "execution_count": 12,
     "metadata": {},
     "output_type": "execute_result"
    }
   ],
   "source": [
    "# tuples are immutable\n",
    "t = ('a', 'b','c')\n",
    "\n",
    "t"
   ]
  },
  {
   "cell_type": "code",
   "execution_count": 13,
   "metadata": {},
   "outputs": [
    {
     "data": {
      "text/plain": [
       "('A', 'b', 'c')"
      ]
     },
     "execution_count": 13,
     "metadata": {},
     "output_type": "execute_result"
    }
   ],
   "source": [
    "# cant modify elements\n",
    "# can replace one tuple with another\n",
    "t = ('A',) + t[1:]\n",
    "t"
   ]
  },
  {
   "cell_type": "markdown",
   "metadata": {},
   "source": [
    "## Tuple Assignment"
   ]
  },
  {
   "cell_type": "code",
   "execution_count": 20,
   "metadata": {},
   "outputs": [
    {
     "data": {
      "text/plain": [
       "'fake news'"
      ]
     },
     "execution_count": 20,
     "metadata": {},
     "output_type": "execute_result"
    }
   ],
   "source": [
    "# swap values of two variables\n",
    "# with conventional assignments have to use a temporary variable\n",
    "# swap a and b\n",
    "a = 'fake news'\n",
    "b = 'real news'\n",
    "\n",
    "temp = a\n",
    "a = b\n",
    "b = temp\n",
    "b"
   ]
  },
  {
   "cell_type": "code",
   "execution_count": 22,
   "metadata": {},
   "outputs": [
    {
     "data": {
      "text/plain": [
       "'fake news'"
      ]
     },
     "execution_count": 22,
     "metadata": {},
     "output_type": "execute_result"
    }
   ],
   "source": [
    "#  use tuple assignment\n",
    "a = 'fake news'\n",
    "b = 'real news'\n",
    "\n",
    "a,b = b,a\n",
    "b"
   ]
  },
  {
   "cell_type": "code",
   "execution_count": 26,
   "metadata": {},
   "outputs": [],
   "source": [
    "# split email address into a user name and domain\n",
    "addr = 'monty@python.org'\n",
    "# right side of tuple assignment can be any kind of sequence\n",
    "uname,domain = addr.split('@')"
   ]
  },
  {
   "cell_type": "code",
   "execution_count": 27,
   "metadata": {},
   "outputs": [
    {
     "data": {
      "text/plain": [
       "'monty'"
      ]
     },
     "execution_count": 27,
     "metadata": {},
     "output_type": "execute_result"
    }
   ],
   "source": [
    "# split creates a list\n",
    "# first element of list assigned to\n",
    "uname"
   ]
  },
  {
   "cell_type": "code",
   "execution_count": 28,
   "metadata": {},
   "outputs": [
    {
     "data": {
      "text/plain": [
       "'python.org'"
      ]
     },
     "execution_count": 28,
     "metadata": {},
     "output_type": "execute_result"
    }
   ],
   "source": [
    "# second element assigned to\n",
    "domain"
   ]
  },
  {
   "cell_type": "markdown",
   "metadata": {},
   "source": [
    "## Tuples as Return Values \n",
    "<br>\n",
    "- function can only return one value <br>\n",
    "- but returning a tuple is like returning multiple values"
   ]
  },
  {
   "cell_type": "code",
   "execution_count": 29,
   "metadata": {},
   "outputs": [
    {
     "data": {
      "text/plain": [
       "2.3333333333333335"
      ]
     },
     "execution_count": 29,
     "metadata": {},
     "output_type": "execute_result"
    }
   ],
   "source": [
    "# example dividing two integrers and computing the quotient and remainder\n",
    "# ineffecient way\n",
    "7/3"
   ]
  },
  {
   "cell_type": "code",
   "execution_count": 31,
   "metadata": {},
   "outputs": [
    {
     "data": {
      "text/plain": [
       "1"
      ]
     },
     "execution_count": 31,
     "metadata": {},
     "output_type": "execute_result"
    }
   ],
   "source": [
    "7%3"
   ]
  },
  {
   "cell_type": "code",
   "execution_count": 32,
   "metadata": {},
   "outputs": [
    {
     "data": {
      "text/plain": [
       "(2, 1)"
      ]
     },
     "execution_count": 32,
     "metadata": {},
     "output_type": "execute_result"
    }
   ],
   "source": [
    "# built-in divmod function\n",
    "# takes two arguments\n",
    "# returns a tuple with two values: quotient and remainder\n",
    "t = divmod(7,3)\n",
    "t"
   ]
  },
  {
   "cell_type": "code",
   "execution_count": 33,
   "metadata": {},
   "outputs": [
    {
     "data": {
      "text/plain": [
       "2"
      ]
     },
     "execution_count": 33,
     "metadata": {},
     "output_type": "execute_result"
    }
   ],
   "source": [
    "# or use tuple assignment to store the elements separately\n",
    "quot, rem = divmod(7,3)\n",
    "quot"
   ]
  },
  {
   "cell_type": "code",
   "execution_count": 34,
   "metadata": {},
   "outputs": [
    {
     "data": {
      "text/plain": [
       "1"
      ]
     },
     "execution_count": 34,
     "metadata": {},
     "output_type": "execute_result"
    }
   ],
   "source": [
    "rem"
   ]
  },
  {
   "cell_type": "code",
   "execution_count": 35,
   "metadata": {},
   "outputs": [],
   "source": [
    "# example function that returns a tuple\n",
    "# returns tuple of min and max\n",
    "def min_max(t):\n",
    "#     uses built-in functions to find the largest and smallest elements of a sequence\n",
    "    return min(t), max(t)"
   ]
  },
  {
   "cell_type": "code",
   "execution_count": 37,
   "metadata": {},
   "outputs": [],
   "source": [
    "x = (23, 897, 90.8, -3, 25)\n",
    "\n",
    "min_x, max_x = min_max(x)"
   ]
  },
  {
   "cell_type": "code",
   "execution_count": 38,
   "metadata": {},
   "outputs": [
    {
     "data": {
      "text/plain": [
       "-3"
      ]
     },
     "execution_count": 38,
     "metadata": {},
     "output_type": "execute_result"
    }
   ],
   "source": [
    "min_x"
   ]
  },
  {
   "cell_type": "code",
   "execution_count": 39,
   "metadata": {},
   "outputs": [
    {
     "data": {
      "text/plain": [
       "897"
      ]
     },
     "execution_count": 39,
     "metadata": {},
     "output_type": "execute_result"
    }
   ],
   "source": [
    "max_x"
   ]
  },
  {
   "cell_type": "markdown",
   "metadata": {},
   "source": [
    "## Variable-Length Argument Tuples"
   ]
  },
  {
   "cell_type": "markdown",
   "metadata": {},
   "source": [
    "\"Functions can take a variable number of arguments. A parameter name that begins with * <b>gathers</b> arguments into a tuple.\""
   ]
  },
  {
   "cell_type": "code",
   "execution_count": 40,
   "metadata": {},
   "outputs": [],
   "source": [
    "# example\n",
    "# takes any number of arguments and prints them\n",
    "def printall(*args):\n",
    "    print(args)"
   ]
  },
  {
   "cell_type": "code",
   "execution_count": 41,
   "metadata": {},
   "outputs": [
    {
     "name": "stdout",
     "output_type": "stream",
     "text": [
      "(1, 2.4, '36')\n"
     ]
    }
   ],
   "source": [
    "printall(1, 2.4, '36')"
   ]
  },
  {
   "cell_type": "markdown",
   "metadata": {},
   "source": [
    "\"The complement of gather is <b>scatter</b>. If you have a sequence of values and you want to pass it to a function as multiple arguments, you can use the * operator\""
   ]
  },
  {
   "cell_type": "code",
   "execution_count": 42,
   "metadata": {},
   "outputs": [
    {
     "ename": "TypeError",
     "evalue": "divmod expected 2 arguments, got 1",
     "output_type": "error",
     "traceback": [
      "\u001b[1;31m---------------------------------------------------------------------------\u001b[0m",
      "\u001b[1;31mTypeError\u001b[0m                                 Traceback (most recent call last)",
      "\u001b[1;32m<ipython-input-42-9c49fc4087ec>\u001b[0m in \u001b[0;36m<module>\u001b[1;34m\u001b[0m\n\u001b[0;32m      3\u001b[0m \u001b[1;31m# doesnt work with tuple\u001b[0m\u001b[1;33m\u001b[0m\u001b[1;33m\u001b[0m\u001b[1;33m\u001b[0m\u001b[0m\n\u001b[0;32m      4\u001b[0m \u001b[0mt\u001b[0m \u001b[1;33m=\u001b[0m \u001b[1;33m(\u001b[0m\u001b[1;36m7\u001b[0m\u001b[1;33m,\u001b[0m\u001b[1;36m3\u001b[0m\u001b[1;33m)\u001b[0m\u001b[1;33m\u001b[0m\u001b[1;33m\u001b[0m\u001b[0m\n\u001b[1;32m----> 5\u001b[1;33m \u001b[0mdivmod\u001b[0m\u001b[1;33m(\u001b[0m\u001b[0mt\u001b[0m\u001b[1;33m)\u001b[0m\u001b[1;33m\u001b[0m\u001b[1;33m\u001b[0m\u001b[0m\n\u001b[0m",
      "\u001b[1;31mTypeError\u001b[0m: divmod expected 2 arguments, got 1"
     ]
    }
   ],
   "source": [
    "# example\n",
    "# divmod takes two args\n",
    "# doesnt work with tuple\n",
    "t = (7,3)\n",
    "divmod(t)"
   ]
  },
  {
   "cell_type": "code",
   "execution_count": 43,
   "metadata": {},
   "outputs": [
    {
     "data": {
      "text/plain": [
       "(2, 1)"
      ]
     },
     "execution_count": 43,
     "metadata": {},
     "output_type": "execute_result"
    }
   ],
   "source": [
    "# can scatter the tuple\n",
    "divmod(*t)"
   ]
  },
  {
   "cell_type": "code",
   "execution_count": null,
   "metadata": {},
   "outputs": [],
   "source": []
  }
 ],
 "metadata": {
  "kernelspec": {
   "display_name": "Python 3",
   "language": "python",
   "name": "python3"
  },
  "language_info": {
   "codemirror_mode": {
    "name": "ipython",
    "version": 3
   },
   "file_extension": ".py",
   "mimetype": "text/x-python",
   "name": "python",
   "nbconvert_exporter": "python",
   "pygments_lexer": "ipython3",
   "version": "3.7.4"
  },
  "toc": {
   "base_numbering": 1,
   "nav_menu": {},
   "number_sections": true,
   "sideBar": true,
   "skip_h1_title": false,
   "title_cell": "Table of Contents",
   "title_sidebar": "Contents",
   "toc_cell": false,
   "toc_position": {},
   "toc_section_display": true,
   "toc_window_display": false
  },
  "varInspector": {
   "cols": {
    "lenName": 16,
    "lenType": 16,
    "lenVar": 40
   },
   "kernels_config": {
    "python": {
     "delete_cmd_postfix": "",
     "delete_cmd_prefix": "del ",
     "library": "var_list.py",
     "varRefreshCmd": "print(var_dic_list())"
    },
    "r": {
     "delete_cmd_postfix": ") ",
     "delete_cmd_prefix": "rm(",
     "library": "var_list.r",
     "varRefreshCmd": "cat(var_dic_list()) "
    }
   },
   "types_to_exclude": [
    "module",
    "function",
    "builtin_function_or_method",
    "instance",
    "_Feature"
   ],
   "window_display": false
  }
 },
 "nbformat": 4,
 "nbformat_minor": 2
}
